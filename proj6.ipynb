{
 "cells": [
  {
   "cell_type": "markdown",
   "metadata": {},
   "source": [
    "# [Project 6: Classifying Point Clouds with PointNet](https://github.gatech.edu/cs4476/project-6)"
   ]
  },
  {
   "cell_type": "markdown",
   "metadata": {},
   "source": [
    "For this project, we are going to build deep learning architectures to classify point clouds that were extracted from self-driving car LiDAR scans.\n",
    "\n",
    "Basic learning objectives of this project:\n",
    "* Construct the basic pipeline used for point cloud classification\n",
    "* Analyze the results from our model and look for potential points of improvement\n",
    "* Understand the limitations of the model and improve it using positional encodings"
   ]
  },
  {
   "cell_type": "markdown",
   "metadata": {},
   "source": [
    "## Setup"
   ]
  },
  {
   "cell_type": "code",
   "execution_count": 1,
   "metadata": {},
   "outputs": [],
   "source": [
    "%matplotlib inline\n",
    "%load_ext autoreload\n",
    "%autoreload 2\n",
    "\n",
    "import torch\n",
    "from vision.utils import verify"
   ]
  },
  {
   "cell_type": "markdown",
   "metadata": {},
   "source": [
    "Lets take a second to visualize a few point clouds that we are going to train our model on. You might need to rotate the visualization before you can actually see the object being represented by the points. See if you can make out this pedestrian's arms, legs, and head."
   ]
  },
  {
   "cell_type": "code",
   "execution_count": 2,
   "metadata": {},
   "outputs": [
    {
     "data": {
      "application/vnd.plotly.v1+json": {
       "config": {
        "plotlyServerURL": "https://plot.ly"
       },
       "data": [
        {
         "hovertemplate": "x=%{x}<br>y=%{y}<br>z=%{z}<extra></extra>",
         "legendgroup": "",
         "marker": {
          "color": "#636efa",
          "symbol": "circle"
         },
         "mode": "markers",
         "name": "",
         "scene": "scene",
         "showlegend": false,
         "type": "scatter3d",
         "x": [
          0.1484375,
          0.171875,
          0.1328125,
          0.1484375,
          0.203125,
          0.078125,
          0.1640625,
          0.2265625,
          0.1875,
          0.21875,
          0.1015625,
          0.078125,
          0.1171875,
          0.0859375,
          0.171875,
          0.2265625,
          0.21875,
          0.1640625,
          0.1796875,
          0.21875,
          0.2578125,
          0.1015625,
          0.1484375,
          0.1328125,
          0.2578125,
          0.109375,
          0.046875,
          0.15625,
          0.1796875,
          0.2265625,
          0.2265625,
          0.2578125,
          0.0625,
          0.2421875,
          0.109375,
          0.046875,
          0.2578125,
          0.1484375,
          0.1796875,
          -0.015625,
          0.109375,
          0.0625,
          0.1796875,
          0.28125,
          0,
          0.0859375,
          -0.0703125,
          0.109375,
          0.0078125,
          0.2265625,
          0.1953125,
          0,
          0.28125,
          0.15625,
          0.21875,
          0.2578125,
          0.0546875,
          0.015625,
          0.1796875,
          0.1875,
          0.0625,
          0.109375,
          0.0390625,
          0.2578125,
          0.1171875,
          0.2578125,
          -0.046875,
          0.0703125,
          0.140625,
          0.0078125,
          0.015625,
          0.09375,
          0.171875,
          -0.0859375,
          0.125,
          0.125,
          0.3203125,
          0.28125,
          -0.0546875,
          0.203125,
          0.015625,
          -0.0625,
          -0.140625,
          -0.1015625,
          0.28125,
          0.2265625,
          0,
          0.28125,
          0.0546875,
          -0.0234375,
          0.015625,
          0.1953125,
          0.1640625,
          0.125,
          0.0859375,
          0.0234375,
          0.1328125,
          -0.0625,
          -0.046875,
          -0.0546875,
          0.2109375,
          -0.1484375,
          -0.0703125,
          -0.0625,
          0.2890625,
          0.1796875,
          -0.078125,
          0.1328125,
          0.046875,
          0.078125,
          -0.1171875,
          0.1171875,
          0.1328125,
          0.2265625,
          -0.09375,
          0.1796875,
          0.0546875,
          0.203125,
          0.15625,
          0.1484375,
          0.078125,
          -0.078125,
          0,
          0.1328125,
          0.1875,
          0.2421875,
          0.046875,
          -0.015625,
          0.1015625,
          -0.0546875,
          -0.078125,
          0.171875,
          -0.0390625,
          -0.1171875,
          0.046875,
          0.046875,
          -0.1640625,
          0.1953125,
          -0.078125,
          0.0625,
          0.03125,
          0.0546875,
          0.1015625,
          0,
          0.109375,
          -0.1640625,
          -0.0078125,
          -0.140625,
          -0.1796875,
          0.0625,
          -0.203125,
          -0.0078125,
          -0.3203125
         ],
         "y": [
          0.140625,
          0.0859375,
          0.125,
          0.078125,
          0.0546875,
          0.1640625,
          0.09375,
          -0.0078125,
          0.03125,
          -0.0234375,
          0.1171875,
          0.1640625,
          0.1328125,
          0.1640625,
          0.015625,
          0.0078125,
          -0.03125,
          0.03125,
          0.0078125,
          -0.015625,
          -0.078125,
          0.1015625,
          0.0625,
          0.0625,
          -0.0390625,
          0.1015625,
          0.1484375,
          0.078125,
          0.015625,
          -0.0078125,
          0,
          -0.046875,
          0.1328125,
          -0.0703125,
          0.109375,
          0.1328125,
          -0.046875,
          0.0703125,
          0.0234375,
          0.2265625,
          0.109375,
          0.1484375,
          0.0234375,
          -0.1015625,
          0.1640625,
          0.0859375,
          0.25,
          0.0234375,
          0.1796875,
          -0.1015625,
          -0.0390625,
          0.1640625,
          -0.1015625,
          0,
          -0.046875,
          -0.1171875,
          0.140625,
          0.171875,
          -0.0078125,
          -0.046875,
          0.1171875,
          0.0546875,
          0.1171875,
          -0.1484375,
          0.03125,
          -0.109375,
          0.203125,
          0.0859375,
          0.0078125,
          0.171875,
          0.1484375,
          0.0625,
          -0.0390625,
          0.234375,
          -0.03125,
          0.015625,
          -0.203125,
          -0.1640625,
          0.1875,
          -0.0859375,
          0.1171875,
          0.203125,
          0.25,
          0.21875,
          -0.171875,
          -0.1171875,
          0.0703125,
          -0.171875,
          0.0703125,
          0.15625,
          0.109375,
          -0.1171875,
          -0.0546875,
          -0.015625,
          0.0234375,
          0.0234375,
          -0.0234375,
          0.1640625,
          0.125,
          0.1328125,
          -0.15625,
          0.1953125,
          0.109375,
          0.09375,
          -0.234375,
          -0.109375,
          0.171875,
          -0.0234375,
          -0.03125,
          0.0078125,
          0.1484375,
          -0.0234375,
          -0.0546875,
          -0.1796875,
          0.1640625,
          -0.1171875,
          0.015625,
          -0.1875,
          -0.109375,
          -0.078125,
          -0.03125,
          0.046875,
          0.046875,
          -0.0859375,
          -0.1796875,
          -0.25,
          -0.0078125,
          -0.046875,
          -0.046875,
          -0.0078125,
          0.0234375,
          -0.171875,
          -0.0234375,
          0.0625,
          -0.015625,
          -0.015625,
          0.0859375,
          -0.2421875,
          0.0546875,
          -0.078125,
          -0.046875,
          -0.09375,
          -0.1171875,
          -0.0625,
          -0.1953125,
          -0.0390625,
          -0.0859375,
          -0.09375,
          -0.0625,
          -0.234375,
          -0.0703125,
          -0.15625,
          -0.1015625
         ],
         "z": [
          0.1502685546875,
          0.0506591796875,
          0.0501708984375,
          -0.1265869140625,
          0.3328857421875,
          0.0491943359375,
          0.3328857421875,
          -0.0430908203125,
          -0.0435791015625,
          -0.4195556640625,
          -0.1270751953125,
          0.1483154296875,
          0.3319091796875,
          0.3319091796875,
          -0.4205322265625,
          0.3328857421875,
          -0.2325439453125,
          -0.1270751953125,
          -0.2330322265625,
          0.0491943359375,
          -0.2325439453125,
          -0.0450439453125,
          0.1419677734375,
          -0.0450439453125,
          0.3328857421875,
          0.1414794921875,
          -0.1285400390625,
          0.4237060546875,
          0.1419677734375,
          0.4237060546875,
          0.5155029296875,
          0.4246826171875,
          0.1405029296875,
          0.0487060546875,
          0.4237060546875,
          -0.0465087890625,
          0.5155029296875,
          0.5145263671875,
          0.4237060546875,
          0.3309326171875,
          0.5145263671875,
          0.4227294921875,
          0.5145263671875,
          0.4237060546875,
          0.0457763671875,
          0.2337646484375,
          0.1453857421875,
          -0.2364501953125,
          0.3309326171875,
          -0.1417236328125,
          0.2342529296875,
          0.1395263671875,
          0.5155029296875,
          0.2342529296875,
          0.4227294921875,
          0.1478271484375,
          0.5145263671875,
          0.4227294921875,
          0.4217529296875,
          0.1405029296875,
          0.4217529296875,
          0.3280029296875,
          0.2332763671875,
          -0.1422119140625,
          0.2337646484375,
          0.3319091796875,
          0.1453857421875,
          0.3280029296875,
          0.3280029296875,
          0.5135498046875,
          0.4207763671875,
          0.4217529296875,
          0.3280029296875,
          0.2318115234375,
          -0.1441650390625,
          0.4217529296875,
          0.3319091796875,
          0.3309326171875,
          0.2318115234375,
          0.3280029296875,
          0.3270263671875,
          0.3270263671875,
          -0.1475830078125,
          0.1370849609375,
          0.4227294921875,
          0.4207763671875,
          -0.1466064453125,
          0.5145263671875,
          0.5145263671875,
          0.5135498046875,
          0.5145263671875,
          0.2322998046875,
          0.5145263671875,
          0.5145263671875,
          0.5145263671875,
          -0.1475830078125,
          0.6053466796875,
          0.4197998046875,
          0.2303466796875,
          0.3250732421875,
          0.3270263671875,
          -0.1363525390625,
          -0.0528564453125,
          -0.1490478515625,
          0.4227294921875,
          0.5145263671875,
          0.5135498046875,
          0.7899169921875,
          -0.1485595703125,
          0.6053466796875,
          -0.1363525390625,
          0.6981201171875,
          0.6072998046875,
          0.4197998046875,
          0.4197998046875,
          0.6053466796875,
          0.6072998046875,
          0.2308349609375,
          0.6072998046875,
          0.7899169921875,
          0.6072998046875,
          -0.510986328125,
          0.6063232421875,
          0.6981201171875,
          0.5135498046875,
          0.4188232421875,
          0.6981201171875,
          -0.51171875,
          0.8817138671875,
          -0.51220703125,
          -0.2469482421875,
          0.6072998046875,
          -0.2464599609375,
          -0.2474365234375,
          0.7899169921875,
          0.8817138671875,
          -0.2491455078125,
          0.5125732421875,
          0.6053466796875,
          0.7957763671875,
          0.7947998046875,
          0.7010498046875,
          0.8826904296875,
          0.7010498046875,
          0.7010498046875,
          -0.63665771484375,
          0.8895263671875,
          -0.63739013671875,
          -0.8753662109375,
          0.7947998046875,
          -0.4495849609375,
          0.8895263671875,
          -0.8895263671875
         ]
        }
       ],
       "layout": {
        "legend": {
         "tracegroupgap": 0
        },
        "margin": {
         "t": 60
        },
        "scene": {
         "domain": {
          "x": [
           0,
           1
          ],
          "y": [
           0,
           1
          ]
         },
         "xaxis": {
          "title": {
           "text": "x"
          }
         },
         "yaxis": {
          "title": {
           "text": "y"
          }
         },
         "zaxis": {
          "title": {
           "text": "z"
          }
         }
        },
        "template": {
         "data": {
          "bar": [
           {
            "error_x": {
             "color": "#2a3f5f"
            },
            "error_y": {
             "color": "#2a3f5f"
            },
            "marker": {
             "line": {
              "color": "#E5ECF6",
              "width": 0.5
             },
             "pattern": {
              "fillmode": "overlay",
              "size": 10,
              "solidity": 0.2
             }
            },
            "type": "bar"
           }
          ],
          "barpolar": [
           {
            "marker": {
             "line": {
              "color": "#E5ECF6",
              "width": 0.5
             },
             "pattern": {
              "fillmode": "overlay",
              "size": 10,
              "solidity": 0.2
             }
            },
            "type": "barpolar"
           }
          ],
          "carpet": [
           {
            "aaxis": {
             "endlinecolor": "#2a3f5f",
             "gridcolor": "white",
             "linecolor": "white",
             "minorgridcolor": "white",
             "startlinecolor": "#2a3f5f"
            },
            "baxis": {
             "endlinecolor": "#2a3f5f",
             "gridcolor": "white",
             "linecolor": "white",
             "minorgridcolor": "white",
             "startlinecolor": "#2a3f5f"
            },
            "type": "carpet"
           }
          ],
          "choropleth": [
           {
            "colorbar": {
             "outlinewidth": 0,
             "ticks": ""
            },
            "type": "choropleth"
           }
          ],
          "contour": [
           {
            "colorbar": {
             "outlinewidth": 0,
             "ticks": ""
            },
            "colorscale": [
             [
              0,
              "#0d0887"
             ],
             [
              0.1111111111111111,
              "#46039f"
             ],
             [
              0.2222222222222222,
              "#7201a8"
             ],
             [
              0.3333333333333333,
              "#9c179e"
             ],
             [
              0.4444444444444444,
              "#bd3786"
             ],
             [
              0.5555555555555556,
              "#d8576b"
             ],
             [
              0.6666666666666666,
              "#ed7953"
             ],
             [
              0.7777777777777778,
              "#fb9f3a"
             ],
             [
              0.8888888888888888,
              "#fdca26"
             ],
             [
              1,
              "#f0f921"
             ]
            ],
            "type": "contour"
           }
          ],
          "contourcarpet": [
           {
            "colorbar": {
             "outlinewidth": 0,
             "ticks": ""
            },
            "type": "contourcarpet"
           }
          ],
          "heatmap": [
           {
            "colorbar": {
             "outlinewidth": 0,
             "ticks": ""
            },
            "colorscale": [
             [
              0,
              "#0d0887"
             ],
             [
              0.1111111111111111,
              "#46039f"
             ],
             [
              0.2222222222222222,
              "#7201a8"
             ],
             [
              0.3333333333333333,
              "#9c179e"
             ],
             [
              0.4444444444444444,
              "#bd3786"
             ],
             [
              0.5555555555555556,
              "#d8576b"
             ],
             [
              0.6666666666666666,
              "#ed7953"
             ],
             [
              0.7777777777777778,
              "#fb9f3a"
             ],
             [
              0.8888888888888888,
              "#fdca26"
             ],
             [
              1,
              "#f0f921"
             ]
            ],
            "type": "heatmap"
           }
          ],
          "heatmapgl": [
           {
            "colorbar": {
             "outlinewidth": 0,
             "ticks": ""
            },
            "colorscale": [
             [
              0,
              "#0d0887"
             ],
             [
              0.1111111111111111,
              "#46039f"
             ],
             [
              0.2222222222222222,
              "#7201a8"
             ],
             [
              0.3333333333333333,
              "#9c179e"
             ],
             [
              0.4444444444444444,
              "#bd3786"
             ],
             [
              0.5555555555555556,
              "#d8576b"
             ],
             [
              0.6666666666666666,
              "#ed7953"
             ],
             [
              0.7777777777777778,
              "#fb9f3a"
             ],
             [
              0.8888888888888888,
              "#fdca26"
             ],
             [
              1,
              "#f0f921"
             ]
            ],
            "type": "heatmapgl"
           }
          ],
          "histogram": [
           {
            "marker": {
             "pattern": {
              "fillmode": "overlay",
              "size": 10,
              "solidity": 0.2
             }
            },
            "type": "histogram"
           }
          ],
          "histogram2d": [
           {
            "colorbar": {
             "outlinewidth": 0,
             "ticks": ""
            },
            "colorscale": [
             [
              0,
              "#0d0887"
             ],
             [
              0.1111111111111111,
              "#46039f"
             ],
             [
              0.2222222222222222,
              "#7201a8"
             ],
             [
              0.3333333333333333,
              "#9c179e"
             ],
             [
              0.4444444444444444,
              "#bd3786"
             ],
             [
              0.5555555555555556,
              "#d8576b"
             ],
             [
              0.6666666666666666,
              "#ed7953"
             ],
             [
              0.7777777777777778,
              "#fb9f3a"
             ],
             [
              0.8888888888888888,
              "#fdca26"
             ],
             [
              1,
              "#f0f921"
             ]
            ],
            "type": "histogram2d"
           }
          ],
          "histogram2dcontour": [
           {
            "colorbar": {
             "outlinewidth": 0,
             "ticks": ""
            },
            "colorscale": [
             [
              0,
              "#0d0887"
             ],
             [
              0.1111111111111111,
              "#46039f"
             ],
             [
              0.2222222222222222,
              "#7201a8"
             ],
             [
              0.3333333333333333,
              "#9c179e"
             ],
             [
              0.4444444444444444,
              "#bd3786"
             ],
             [
              0.5555555555555556,
              "#d8576b"
             ],
             [
              0.6666666666666666,
              "#ed7953"
             ],
             [
              0.7777777777777778,
              "#fb9f3a"
             ],
             [
              0.8888888888888888,
              "#fdca26"
             ],
             [
              1,
              "#f0f921"
             ]
            ],
            "type": "histogram2dcontour"
           }
          ],
          "mesh3d": [
           {
            "colorbar": {
             "outlinewidth": 0,
             "ticks": ""
            },
            "type": "mesh3d"
           }
          ],
          "parcoords": [
           {
            "line": {
             "colorbar": {
              "outlinewidth": 0,
              "ticks": ""
             }
            },
            "type": "parcoords"
           }
          ],
          "pie": [
           {
            "automargin": true,
            "type": "pie"
           }
          ],
          "scatter": [
           {
            "fillpattern": {
             "fillmode": "overlay",
             "size": 10,
             "solidity": 0.2
            },
            "type": "scatter"
           }
          ],
          "scatter3d": [
           {
            "line": {
             "colorbar": {
              "outlinewidth": 0,
              "ticks": ""
             }
            },
            "marker": {
             "colorbar": {
              "outlinewidth": 0,
              "ticks": ""
             }
            },
            "type": "scatter3d"
           }
          ],
          "scattercarpet": [
           {
            "marker": {
             "colorbar": {
              "outlinewidth": 0,
              "ticks": ""
             }
            },
            "type": "scattercarpet"
           }
          ],
          "scattergeo": [
           {
            "marker": {
             "colorbar": {
              "outlinewidth": 0,
              "ticks": ""
             }
            },
            "type": "scattergeo"
           }
          ],
          "scattergl": [
           {
            "marker": {
             "colorbar": {
              "outlinewidth": 0,
              "ticks": ""
             }
            },
            "type": "scattergl"
           }
          ],
          "scattermapbox": [
           {
            "marker": {
             "colorbar": {
              "outlinewidth": 0,
              "ticks": ""
             }
            },
            "type": "scattermapbox"
           }
          ],
          "scatterpolar": [
           {
            "marker": {
             "colorbar": {
              "outlinewidth": 0,
              "ticks": ""
             }
            },
            "type": "scatterpolar"
           }
          ],
          "scatterpolargl": [
           {
            "marker": {
             "colorbar": {
              "outlinewidth": 0,
              "ticks": ""
             }
            },
            "type": "scatterpolargl"
           }
          ],
          "scatterternary": [
           {
            "marker": {
             "colorbar": {
              "outlinewidth": 0,
              "ticks": ""
             }
            },
            "type": "scatterternary"
           }
          ],
          "surface": [
           {
            "colorbar": {
             "outlinewidth": 0,
             "ticks": ""
            },
            "colorscale": [
             [
              0,
              "#0d0887"
             ],
             [
              0.1111111111111111,
              "#46039f"
             ],
             [
              0.2222222222222222,
              "#7201a8"
             ],
             [
              0.3333333333333333,
              "#9c179e"
             ],
             [
              0.4444444444444444,
              "#bd3786"
             ],
             [
              0.5555555555555556,
              "#d8576b"
             ],
             [
              0.6666666666666666,
              "#ed7953"
             ],
             [
              0.7777777777777778,
              "#fb9f3a"
             ],
             [
              0.8888888888888888,
              "#fdca26"
             ],
             [
              1,
              "#f0f921"
             ]
            ],
            "type": "surface"
           }
          ],
          "table": [
           {
            "cells": {
             "fill": {
              "color": "#EBF0F8"
             },
             "line": {
              "color": "white"
             }
            },
            "header": {
             "fill": {
              "color": "#C8D4E3"
             },
             "line": {
              "color": "white"
             }
            },
            "type": "table"
           }
          ]
         },
         "layout": {
          "annotationdefaults": {
           "arrowcolor": "#2a3f5f",
           "arrowhead": 0,
           "arrowwidth": 1
          },
          "autotypenumbers": "strict",
          "coloraxis": {
           "colorbar": {
            "outlinewidth": 0,
            "ticks": ""
           }
          },
          "colorscale": {
           "diverging": [
            [
             0,
             "#8e0152"
            ],
            [
             0.1,
             "#c51b7d"
            ],
            [
             0.2,
             "#de77ae"
            ],
            [
             0.3,
             "#f1b6da"
            ],
            [
             0.4,
             "#fde0ef"
            ],
            [
             0.5,
             "#f7f7f7"
            ],
            [
             0.6,
             "#e6f5d0"
            ],
            [
             0.7,
             "#b8e186"
            ],
            [
             0.8,
             "#7fbc41"
            ],
            [
             0.9,
             "#4d9221"
            ],
            [
             1,
             "#276419"
            ]
           ],
           "sequential": [
            [
             0,
             "#0d0887"
            ],
            [
             0.1111111111111111,
             "#46039f"
            ],
            [
             0.2222222222222222,
             "#7201a8"
            ],
            [
             0.3333333333333333,
             "#9c179e"
            ],
            [
             0.4444444444444444,
             "#bd3786"
            ],
            [
             0.5555555555555556,
             "#d8576b"
            ],
            [
             0.6666666666666666,
             "#ed7953"
            ],
            [
             0.7777777777777778,
             "#fb9f3a"
            ],
            [
             0.8888888888888888,
             "#fdca26"
            ],
            [
             1,
             "#f0f921"
            ]
           ],
           "sequentialminus": [
            [
             0,
             "#0d0887"
            ],
            [
             0.1111111111111111,
             "#46039f"
            ],
            [
             0.2222222222222222,
             "#7201a8"
            ],
            [
             0.3333333333333333,
             "#9c179e"
            ],
            [
             0.4444444444444444,
             "#bd3786"
            ],
            [
             0.5555555555555556,
             "#d8576b"
            ],
            [
             0.6666666666666666,
             "#ed7953"
            ],
            [
             0.7777777777777778,
             "#fb9f3a"
            ],
            [
             0.8888888888888888,
             "#fdca26"
            ],
            [
             1,
             "#f0f921"
            ]
           ]
          },
          "colorway": [
           "#636efa",
           "#EF553B",
           "#00cc96",
           "#ab63fa",
           "#FFA15A",
           "#19d3f3",
           "#FF6692",
           "#B6E880",
           "#FF97FF",
           "#FECB52"
          ],
          "font": {
           "color": "#2a3f5f"
          },
          "geo": {
           "bgcolor": "white",
           "lakecolor": "white",
           "landcolor": "#E5ECF6",
           "showlakes": true,
           "showland": true,
           "subunitcolor": "white"
          },
          "hoverlabel": {
           "align": "left"
          },
          "hovermode": "closest",
          "mapbox": {
           "style": "light"
          },
          "paper_bgcolor": "white",
          "plot_bgcolor": "#E5ECF6",
          "polar": {
           "angularaxis": {
            "gridcolor": "white",
            "linecolor": "white",
            "ticks": ""
           },
           "bgcolor": "#E5ECF6",
           "radialaxis": {
            "gridcolor": "white",
            "linecolor": "white",
            "ticks": ""
           }
          },
          "scene": {
           "xaxis": {
            "backgroundcolor": "#E5ECF6",
            "gridcolor": "white",
            "gridwidth": 2,
            "linecolor": "white",
            "showbackground": true,
            "ticks": "",
            "zerolinecolor": "white"
           },
           "yaxis": {
            "backgroundcolor": "#E5ECF6",
            "gridcolor": "white",
            "gridwidth": 2,
            "linecolor": "white",
            "showbackground": true,
            "ticks": "",
            "zerolinecolor": "white"
           },
           "zaxis": {
            "backgroundcolor": "#E5ECF6",
            "gridcolor": "white",
            "gridwidth": 2,
            "linecolor": "white",
            "showbackground": true,
            "ticks": "",
            "zerolinecolor": "white"
           }
          },
          "shapedefaults": {
           "line": {
            "color": "#2a3f5f"
           }
          },
          "ternary": {
           "aaxis": {
            "gridcolor": "white",
            "linecolor": "white",
            "ticks": ""
           },
           "baxis": {
            "gridcolor": "white",
            "linecolor": "white",
            "ticks": ""
           },
           "bgcolor": "#E5ECF6",
           "caxis": {
            "gridcolor": "white",
            "linecolor": "white",
            "ticks": ""
           }
          },
          "title": {
           "x": 0.05
          },
          "xaxis": {
           "automargin": true,
           "gridcolor": "white",
           "linecolor": "white",
           "ticks": "",
           "title": {
            "standoff": 15
           },
           "zerolinecolor": "white",
           "zerolinewidth": 2
          },
          "yaxis": {
           "automargin": true,
           "gridcolor": "white",
           "linecolor": "white",
           "ticks": "",
           "title": {
            "standoff": 15
           },
           "zerolinecolor": "white",
           "zerolinewidth": 2
          }
         }
        }
       }
      }
     },
     "metadata": {},
     "output_type": "display_data"
    }
   ],
   "source": [
    "from vision.utils import plot_cloud_from_file\n",
    "\n",
    "plot_cloud_from_file('data/sweeps/PEDESTRIAN/11.txt')"
   ]
  },
  {
   "cell_type": "markdown",
   "metadata": {},
   "source": [
    "## Part 1: Data Loading"
   ]
  },
  {
   "cell_type": "markdown",
   "metadata": {},
   "source": [
    "The first order of business we're going to take care of is writing a PyTorch dataset that will load in the data we'll be using to train and test our model. We have a total of 20 different classes that all found under the `data/sweeps` folder and each class has been split into a training and testing set. We will write a class that will load the appropriate data given the split we pass in (i.e. train/test split).\n",
    "\n",
    "**TODO 1:** complete `part1_dataloader.py`"
   ]
  },
  {
   "cell_type": "code",
   "execution_count": 3,
   "metadata": {},
   "outputs": [],
   "source": [
    "from vision.part1_dataloader import Argoverse\n",
    "from torch.utils.data import DataLoader\n",
    "from tests.test_part1 import (\n",
    "    test_dataset_length, \n",
    "    test_unique_values, \n",
    "    test_get_points_from_file, \n",
    "    test_pad_points, \n",
    "    test_class_values\n",
    ")"
   ]
  },
  {
   "cell_type": "code",
   "execution_count": 4,
   "metadata": {},
   "outputs": [
    {
     "name": "stdout",
     "output_type": "stream",
     "text": [
      "test_dataset_length():  \u001b[32m\"Correct\"\u001b[0m\n",
      "test_unique_values():  \u001b[32m\"Correct\"\u001b[0m\n",
      "test_get_points_from_file():  \u001b[32m\"Correct\"\u001b[0m\n",
      "test_pad_points():  \u001b[32m\"Correct\"\u001b[0m\n",
      "test_class_values():  \u001b[32m\"Correct\"\u001b[0m\n"
     ]
    }
   ],
   "source": [
    "print(\"test_dataset_length(): \", verify(test_dataset_length))\n",
    "print(\"test_unique_values(): \", verify(test_unique_values))\n",
    "print(\"test_get_points_from_file(): \", verify(test_get_points_from_file))\n",
    "print(\"test_pad_points(): \", verify(test_pad_points))\n",
    "print(\"test_class_values(): \", verify(test_class_values))"
   ]
  },
  {
   "cell_type": "markdown",
   "metadata": {},
   "source": [
    "Now we can load in our data. When extracting object point clouds from LiDAR scans, we pruned point clouds with large numbers of points to reduce the computational demand of training and testing our classifiers. We pruned all point clouds to have a maximum of 200 points so that is the size that we will be padding all of the other point clouds to. (Feel free to adjust the batch size if you find a value that works better with your implementation)"
   ]
  },
  {
   "cell_type": "code",
   "execution_count": 5,
   "metadata": {},
   "outputs": [],
   "source": [
    "train_dataset = Argoverse('train', 'data/sweeps', 200)\n",
    "test_dataset = Argoverse('test', 'data/sweeps', 200)\n",
    "\n",
    "train_loader = DataLoader(train_dataset, batch_size=16, num_workers=4, persistent_workers=True, shuffle=True)\n",
    "test_loader = DataLoader(test_dataset, batch_size=16, num_workers=4, persistent_workers=True, shuffle=True)"
   ]
  },
  {
   "cell_type": "markdown",
   "metadata": {},
   "source": [
    "## Part 2: Baseline\n",
    "\n",
    "A very simple baseline to start with is a voxel-based approach. Our overall point cloud falls in a 4x4x4 meter volume in space. We can divide this up into 1x1x1 meter volumes which would give us a total of 64 $1m^3$ cells. We build a 64-dimensional feature for a point by simply counting how many points in the point cloud fall into each cell then normalizng the resulting feature vector.\n",
    "\n",
    "For more details see the project pdf.\n",
    "\n",
    "**TODO 2:** complete `part2_baseline.py`"
   ]
  },
  {
   "cell_type": "code",
   "execution_count": 10,
   "metadata": {},
   "outputs": [],
   "source": [
    "from vision.part2_baseline import Baseline\n",
    "from torch import optim\n",
    "from vision.training import train, test\n",
    "from tests.test_part2 import (\n",
    "    test_count_points,\n",
    "    test_baseline\n",
    ")"
   ]
  },
  {
   "cell_type": "code",
   "execution_count": 7,
   "metadata": {},
   "outputs": [
    {
     "name": "stdout",
     "output_type": "stream",
     "text": [
      "test_count_points():  \u001b[32m\"Correct\"\u001b[0m\n",
      "test_baseline():  \u001b[32m\"Correct\"\u001b[0m\n"
     ]
    }
   ],
   "source": [
    "print(\"test_count_points(): \", verify(test_count_points))\n",
    "print(\"test_baseline(): \", verify(test_baseline))"
   ]
  },
  {
   "cell_type": "markdown",
   "metadata": {},
   "source": [
    "Lets train our baseline implementation and see how it does. Fill in the hyperparameters and train your model.\n",
    "\n",
    "To get full credit for this section, you will need *$\\geq$ 30%* accuracy on the test data set. The TAs were able to consistently achieve this accuracy with ~15 epochs"
   ]
  },
  {
   "cell_type": "code",
   "execution_count": 9,
   "metadata": {},
   "outputs": [],
   "source": [
    "lr = 1e-2\n",
    "weight_decay = 1e-5\n",
    "epochs = 20\n",
    "\n",
    "model = Baseline(20)\n",
    "optimizer = optim.Adam(model.parameters(), lr=lr, weight_decay=weight_decay)"
   ]
  },
  {
   "cell_type": "code",
   "execution_count": 10,
   "metadata": {},
   "outputs": [
    {
     "name": "stdout",
     "output_type": "stream",
     "text": [
      "Epoch 1\n",
      "\n",
      "Training...\n"
     ]
    },
    {
     "name": "stderr",
     "output_type": "stream",
     "text": [
      "100%|██████████| 213/213 [00:08<00:00, 24.25it/s]\n"
     ]
    },
    {
     "name": "stdout",
     "output_type": "stream",
     "text": [
      "\n",
      "Testing...\n"
     ]
    },
    {
     "name": "stderr",
     "output_type": "stream",
     "text": [
      "100%|██████████| 38/38 [00:02<00:00, 13.55it/s]\n"
     ]
    },
    {
     "name": "stdout",
     "output_type": "stream",
     "text": [
      "\n",
      "Epoch 1 Stats:\n",
      "\tTraining accuracy: 0.2412\n",
      "\tTraining loss: 2.8130\n",
      "\tValidation accuracy: 0.1983\n",
      "\tValidation loss: 2.7442\n",
      "\n",
      "Validation accuracy improved from 0 to 0.19833333790302277\n",
      "Saving model to Baseline.pt\n",
      "\n",
      "===============================================================================\n",
      "\n",
      "Epoch 2\n",
      "\n",
      "Training...\n"
     ]
    },
    {
     "name": "stderr",
     "output_type": "stream",
     "text": [
      "100%|██████████| 213/213 [00:03<00:00, 69.93it/s]\n"
     ]
    },
    {
     "name": "stdout",
     "output_type": "stream",
     "text": [
      "\n",
      "Testing...\n"
     ]
    },
    {
     "name": "stderr",
     "output_type": "stream",
     "text": [
      "100%|██████████| 38/38 [00:00<00:00, 63.76it/s]\n"
     ]
    },
    {
     "name": "stdout",
     "output_type": "stream",
     "text": [
      "\n",
      "Epoch 2 Stats:\n",
      "\tTraining accuracy: 0.3171\n",
      "\tTraining loss: 2.5078\n",
      "\tValidation accuracy: 0.1850\n",
      "\tValidation loss: 2.6464\n",
      "\n",
      "===============================================================================\n",
      "\n",
      "Epoch 3\n",
      "\n",
      "Training...\n"
     ]
    },
    {
     "name": "stderr",
     "output_type": "stream",
     "text": [
      "100%|██████████| 213/213 [00:03<00:00, 70.45it/s]\n"
     ]
    },
    {
     "name": "stdout",
     "output_type": "stream",
     "text": [
      "\n",
      "Testing...\n"
     ]
    },
    {
     "name": "stderr",
     "output_type": "stream",
     "text": [
      "100%|██████████| 38/38 [00:00<00:00, 68.64it/s]\n"
     ]
    },
    {
     "name": "stdout",
     "output_type": "stream",
     "text": [
      "\n",
      "Epoch 3 Stats:\n",
      "\tTraining accuracy: 0.3535\n",
      "\tTraining loss: 2.3421\n",
      "\tValidation accuracy: 0.1817\n",
      "\tValidation loss: 2.6017\n",
      "\n",
      "===============================================================================\n",
      "\n",
      "Epoch 4\n",
      "\n",
      "Training...\n"
     ]
    },
    {
     "name": "stderr",
     "output_type": "stream",
     "text": [
      "100%|██████████| 213/213 [00:02<00:00, 72.03it/s]\n"
     ]
    },
    {
     "name": "stdout",
     "output_type": "stream",
     "text": [
      "\n",
      "Testing...\n"
     ]
    },
    {
     "name": "stderr",
     "output_type": "stream",
     "text": [
      "100%|██████████| 38/38 [00:00<00:00, 66.77it/s]\n"
     ]
    },
    {
     "name": "stdout",
     "output_type": "stream",
     "text": [
      "\n",
      "Epoch 4 Stats:\n",
      "\tTraining accuracy: 0.3621\n",
      "\tTraining loss: 2.2426\n",
      "\tValidation accuracy: 0.2017\n",
      "\tValidation loss: 2.5972\n",
      "\n",
      "Validation accuracy improved from 0.19833333790302277 to 0.2016666680574417\n",
      "Saving model to Baseline.pt\n",
      "\n",
      "===============================================================================\n",
      "\n",
      "Epoch 5\n",
      "\n",
      "Training...\n"
     ]
    },
    {
     "name": "stderr",
     "output_type": "stream",
     "text": [
      "100%|██████████| 213/213 [00:03<00:00, 68.71it/s]\n"
     ]
    },
    {
     "name": "stdout",
     "output_type": "stream",
     "text": [
      "\n",
      "Testing...\n"
     ]
    },
    {
     "name": "stderr",
     "output_type": "stream",
     "text": [
      "100%|██████████| 38/38 [00:00<00:00, 68.33it/s]\n"
     ]
    },
    {
     "name": "stdout",
     "output_type": "stream",
     "text": [
      "\n",
      "Epoch 5 Stats:\n",
      "\tTraining accuracy: 0.3738\n",
      "\tTraining loss: 2.1788\n",
      "\tValidation accuracy: 0.2067\n",
      "\tValidation loss: 2.5935\n",
      "\n",
      "Validation accuracy improved from 0.2016666680574417 to 0.20666666328907013\n",
      "Saving model to Baseline.pt\n",
      "\n",
      "===============================================================================\n",
      "\n",
      "Epoch 6\n",
      "\n",
      "Training...\n"
     ]
    },
    {
     "name": "stderr",
     "output_type": "stream",
     "text": [
      "100%|██████████| 213/213 [00:03<00:00, 67.59it/s]\n"
     ]
    },
    {
     "name": "stdout",
     "output_type": "stream",
     "text": [
      "\n",
      "Testing...\n"
     ]
    },
    {
     "name": "stderr",
     "output_type": "stream",
     "text": [
      "100%|██████████| 38/38 [00:00<00:00, 67.50it/s]\n"
     ]
    },
    {
     "name": "stdout",
     "output_type": "stream",
     "text": [
      "\n",
      "Epoch 6 Stats:\n",
      "\tTraining accuracy: 0.3832\n",
      "\tTraining loss: 2.1341\n",
      "\tValidation accuracy: 0.1983\n",
      "\tValidation loss: 2.6021\n",
      "\n",
      "===============================================================================\n",
      "\n",
      "Epoch 7\n",
      "\n",
      "Training...\n"
     ]
    },
    {
     "name": "stderr",
     "output_type": "stream",
     "text": [
      "100%|██████████| 213/213 [00:03<00:00, 68.23it/s]\n"
     ]
    },
    {
     "name": "stdout",
     "output_type": "stream",
     "text": [
      "\n",
      "Testing...\n"
     ]
    },
    {
     "name": "stderr",
     "output_type": "stream",
     "text": [
      "100%|██████████| 38/38 [00:00<00:00, 66.25it/s]\n"
     ]
    },
    {
     "name": "stdout",
     "output_type": "stream",
     "text": [
      "\n",
      "Epoch 7 Stats:\n",
      "\tTraining accuracy: 0.3862\n",
      "\tTraining loss: 2.1003\n",
      "\tValidation accuracy: 0.2050\n",
      "\tValidation loss: 2.5945\n",
      "\n",
      "===============================================================================\n",
      "\n",
      "Epoch 8\n",
      "\n",
      "Training...\n"
     ]
    },
    {
     "name": "stderr",
     "output_type": "stream",
     "text": [
      "100%|██████████| 213/213 [00:03<00:00, 68.54it/s]\n"
     ]
    },
    {
     "name": "stdout",
     "output_type": "stream",
     "text": [
      "\n",
      "Testing...\n"
     ]
    },
    {
     "name": "stderr",
     "output_type": "stream",
     "text": [
      "100%|██████████| 38/38 [00:00<00:00, 67.90it/s]\n"
     ]
    },
    {
     "name": "stdout",
     "output_type": "stream",
     "text": [
      "\n",
      "Epoch 8 Stats:\n",
      "\tTraining accuracy: 0.3924\n",
      "\tTraining loss: 2.0734\n",
      "\tValidation accuracy: 0.2150\n",
      "\tValidation loss: 2.6081\n",
      "\n",
      "Validation accuracy improved from 0.20666666328907013 to 0.2150000035762787\n",
      "Saving model to Baseline.pt\n",
      "\n",
      "===============================================================================\n",
      "\n",
      "Epoch 9\n",
      "\n",
      "Training...\n"
     ]
    },
    {
     "name": "stderr",
     "output_type": "stream",
     "text": [
      "100%|██████████| 213/213 [00:03<00:00, 69.09it/s]\n"
     ]
    },
    {
     "name": "stdout",
     "output_type": "stream",
     "text": [
      "\n",
      "Testing...\n"
     ]
    },
    {
     "name": "stderr",
     "output_type": "stream",
     "text": [
      "100%|██████████| 38/38 [00:00<00:00, 67.31it/s]\n"
     ]
    },
    {
     "name": "stdout",
     "output_type": "stream",
     "text": [
      "\n",
      "Epoch 9 Stats:\n",
      "\tTraining accuracy: 0.3941\n",
      "\tTraining loss: 2.0525\n",
      "\tValidation accuracy: 0.2300\n",
      "\tValidation loss: 2.6065\n",
      "\n",
      "Validation accuracy improved from 0.2150000035762787 to 0.23000000417232513\n",
      "Saving model to Baseline.pt\n",
      "\n",
      "===============================================================================\n",
      "\n",
      "Epoch 10\n",
      "\n",
      "Training...\n"
     ]
    },
    {
     "name": "stderr",
     "output_type": "stream",
     "text": [
      "100%|██████████| 213/213 [00:03<00:00, 66.00it/s]\n"
     ]
    },
    {
     "name": "stdout",
     "output_type": "stream",
     "text": [
      "\n",
      "Testing...\n"
     ]
    },
    {
     "name": "stderr",
     "output_type": "stream",
     "text": [
      "100%|██████████| 38/38 [00:00<00:00, 67.66it/s]\n"
     ]
    },
    {
     "name": "stdout",
     "output_type": "stream",
     "text": [
      "\n",
      "Epoch 10 Stats:\n",
      "\tTraining accuracy: 0.4053\n",
      "\tTraining loss: 2.0359\n",
      "\tValidation accuracy: 0.2150\n",
      "\tValidation loss: 2.6134\n",
      "\n",
      "===============================================================================\n",
      "\n",
      "Epoch 11\n",
      "\n",
      "Training...\n"
     ]
    },
    {
     "name": "stderr",
     "output_type": "stream",
     "text": [
      "100%|██████████| 213/213 [00:03<00:00, 67.96it/s]\n"
     ]
    },
    {
     "name": "stdout",
     "output_type": "stream",
     "text": [
      "\n",
      "Testing...\n"
     ]
    },
    {
     "name": "stderr",
     "output_type": "stream",
     "text": [
      "100%|██████████| 38/38 [00:00<00:00, 70.09it/s]\n"
     ]
    },
    {
     "name": "stdout",
     "output_type": "stream",
     "text": [
      "\n",
      "Epoch 11 Stats:\n",
      "\tTraining accuracy: 0.4085\n",
      "\tTraining loss: 2.0201\n",
      "\tValidation accuracy: 0.2233\n",
      "\tValidation loss: 2.6289\n",
      "\n",
      "===============================================================================\n",
      "\n",
      "Epoch 12\n",
      "\n",
      "Training...\n"
     ]
    },
    {
     "name": "stderr",
     "output_type": "stream",
     "text": [
      "100%|██████████| 213/213 [00:03<00:00, 68.71it/s]\n"
     ]
    },
    {
     "name": "stdout",
     "output_type": "stream",
     "text": [
      "\n",
      "Testing...\n"
     ]
    },
    {
     "name": "stderr",
     "output_type": "stream",
     "text": [
      "100%|██████████| 38/38 [00:00<00:00, 68.03it/s]\n"
     ]
    },
    {
     "name": "stdout",
     "output_type": "stream",
     "text": [
      "\n",
      "Epoch 12 Stats:\n",
      "\tTraining accuracy: 0.4079\n",
      "\tTraining loss: 2.0079\n",
      "\tValidation accuracy: 0.2250\n",
      "\tValidation loss: 2.6257\n",
      "\n",
      "===============================================================================\n",
      "\n",
      "Epoch 13\n",
      "\n",
      "Training...\n"
     ]
    },
    {
     "name": "stderr",
     "output_type": "stream",
     "text": [
      "100%|██████████| 213/213 [00:03<00:00, 70.95it/s]\n"
     ]
    },
    {
     "name": "stdout",
     "output_type": "stream",
     "text": [
      "\n",
      "Testing...\n"
     ]
    },
    {
     "name": "stderr",
     "output_type": "stream",
     "text": [
      "100%|██████████| 38/38 [00:00<00:00, 68.47it/s]\n"
     ]
    },
    {
     "name": "stdout",
     "output_type": "stream",
     "text": [
      "\n",
      "Epoch 13 Stats:\n",
      "\tTraining accuracy: 0.4138\n",
      "\tTraining loss: 1.9969\n",
      "\tValidation accuracy: 0.2383\n",
      "\tValidation loss: 2.6287\n",
      "\n",
      "Validation accuracy improved from 0.23000000417232513 to 0.2383333295583725\n",
      "Saving model to Baseline.pt\n",
      "\n",
      "===============================================================================\n",
      "\n",
      "Epoch 14\n",
      "\n",
      "Training...\n"
     ]
    },
    {
     "name": "stderr",
     "output_type": "stream",
     "text": [
      "100%|██████████| 213/213 [00:03<00:00, 62.85it/s]\n"
     ]
    },
    {
     "name": "stdout",
     "output_type": "stream",
     "text": [
      "\n",
      "Testing...\n"
     ]
    },
    {
     "name": "stderr",
     "output_type": "stream",
     "text": [
      "100%|██████████| 38/38 [00:00<00:00, 60.76it/s]\n"
     ]
    },
    {
     "name": "stdout",
     "output_type": "stream",
     "text": [
      "\n",
      "Epoch 14 Stats:\n",
      "\tTraining accuracy: 0.4153\n",
      "\tTraining loss: 1.9879\n",
      "\tValidation accuracy: 0.2250\n",
      "\tValidation loss: 2.6386\n",
      "\n",
      "===============================================================================\n",
      "\n",
      "Epoch 15\n",
      "\n",
      "Training...\n"
     ]
    },
    {
     "name": "stderr",
     "output_type": "stream",
     "text": [
      "100%|██████████| 213/213 [00:03<00:00, 68.98it/s]\n"
     ]
    },
    {
     "name": "stdout",
     "output_type": "stream",
     "text": [
      "\n",
      "Testing...\n"
     ]
    },
    {
     "name": "stderr",
     "output_type": "stream",
     "text": [
      "100%|██████████| 38/38 [00:00<00:00, 66.71it/s]\n"
     ]
    },
    {
     "name": "stdout",
     "output_type": "stream",
     "text": [
      "\n",
      "Epoch 15 Stats:\n",
      "\tTraining accuracy: 0.4165\n",
      "\tTraining loss: 1.9787\n",
      "\tValidation accuracy: 0.2267\n",
      "\tValidation loss: 2.6446\n",
      "\n",
      "===============================================================================\n",
      "\n",
      "Epoch 16\n",
      "\n",
      "Training...\n"
     ]
    },
    {
     "name": "stderr",
     "output_type": "stream",
     "text": [
      "100%|██████████| 213/213 [00:03<00:00, 69.36it/s]\n"
     ]
    },
    {
     "name": "stdout",
     "output_type": "stream",
     "text": [
      "\n",
      "Testing...\n"
     ]
    },
    {
     "name": "stderr",
     "output_type": "stream",
     "text": [
      "100%|██████████| 38/38 [00:00<00:00, 59.52it/s]\n"
     ]
    },
    {
     "name": "stdout",
     "output_type": "stream",
     "text": [
      "\n",
      "Epoch 16 Stats:\n",
      "\tTraining accuracy: 0.4162\n",
      "\tTraining loss: 1.9719\n",
      "\tValidation accuracy: 0.2300\n",
      "\tValidation loss: 2.6388\n",
      "\n",
      "===============================================================================\n",
      "\n",
      "Epoch 17\n",
      "\n",
      "Training...\n"
     ]
    },
    {
     "name": "stderr",
     "output_type": "stream",
     "text": [
      "100%|██████████| 213/213 [00:03<00:00, 70.23it/s]\n"
     ]
    },
    {
     "name": "stdout",
     "output_type": "stream",
     "text": [
      "\n",
      "Testing...\n"
     ]
    },
    {
     "name": "stderr",
     "output_type": "stream",
     "text": [
      "100%|██████████| 38/38 [00:00<00:00, 67.36it/s]\n"
     ]
    },
    {
     "name": "stdout",
     "output_type": "stream",
     "text": [
      "\n",
      "Epoch 17 Stats:\n",
      "\tTraining accuracy: 0.4226\n",
      "\tTraining loss: 1.9638\n",
      "\tValidation accuracy: 0.2383\n",
      "\tValidation loss: 2.6557\n",
      "\n",
      "===============================================================================\n",
      "\n",
      "Epoch 18\n",
      "\n",
      "Training...\n"
     ]
    },
    {
     "name": "stderr",
     "output_type": "stream",
     "text": [
      "100%|██████████| 213/213 [00:03<00:00, 67.81it/s]\n"
     ]
    },
    {
     "name": "stdout",
     "output_type": "stream",
     "text": [
      "\n",
      "Testing...\n"
     ]
    },
    {
     "name": "stderr",
     "output_type": "stream",
     "text": [
      "100%|██████████| 38/38 [00:00<00:00, 67.42it/s]\n"
     ]
    },
    {
     "name": "stdout",
     "output_type": "stream",
     "text": [
      "\n",
      "Epoch 18 Stats:\n",
      "\tTraining accuracy: 0.4235\n",
      "\tTraining loss: 1.9574\n",
      "\tValidation accuracy: 0.2400\n",
      "\tValidation loss: 2.6594\n",
      "\n",
      "Validation accuracy improved from 0.2383333295583725 to 0.23999999463558197\n",
      "Saving model to Baseline.pt\n",
      "\n",
      "===============================================================================\n",
      "\n",
      "Epoch 19\n",
      "\n",
      "Training...\n"
     ]
    },
    {
     "name": "stderr",
     "output_type": "stream",
     "text": [
      "100%|██████████| 213/213 [00:03<00:00, 68.22it/s]\n"
     ]
    },
    {
     "name": "stdout",
     "output_type": "stream",
     "text": [
      "\n",
      "Testing...\n"
     ]
    },
    {
     "name": "stderr",
     "output_type": "stream",
     "text": [
      "100%|██████████| 38/38 [00:00<00:00, 67.90it/s]\n"
     ]
    },
    {
     "name": "stdout",
     "output_type": "stream",
     "text": [
      "\n",
      "Epoch 19 Stats:\n",
      "\tTraining accuracy: 0.4265\n",
      "\tTraining loss: 1.9531\n",
      "\tValidation accuracy: 0.2417\n",
      "\tValidation loss: 2.6616\n",
      "\n",
      "Validation accuracy improved from 0.23999999463558197 to 0.24166665971279144\n",
      "Saving model to Baseline.pt\n",
      "\n",
      "===============================================================================\n",
      "\n",
      "Epoch 20\n",
      "\n",
      "Training...\n"
     ]
    },
    {
     "name": "stderr",
     "output_type": "stream",
     "text": [
      "100%|██████████| 213/213 [00:03<00:00, 65.90it/s]\n"
     ]
    },
    {
     "name": "stdout",
     "output_type": "stream",
     "text": [
      "\n",
      "Testing...\n"
     ]
    },
    {
     "name": "stderr",
     "output_type": "stream",
     "text": [
      "100%|██████████| 38/38 [00:00<00:00, 66.82it/s]"
     ]
    },
    {
     "name": "stdout",
     "output_type": "stream",
     "text": [
      "\n",
      "Epoch 20 Stats:\n",
      "\tTraining accuracy: 0.4312\n",
      "\tTraining loss: 1.9466\n",
      "\tValidation accuracy: 0.2350\n",
      "\tValidation loss: 2.6498\n",
      "\n",
      "===============================================================================\n",
      "\n"
     ]
    },
    {
     "name": "stderr",
     "output_type": "stream",
     "text": [
      "\n"
     ]
    }
   ],
   "source": [
    "train_acc, train_loss, test_acc, test_loss = train(model, optimizer, epochs, train_loader, test_loader)"
   ]
  },
  {
   "cell_type": "code",
   "execution_count": 11,
   "metadata": {},
   "outputs": [
    {
     "name": "stderr",
     "output_type": "stream",
     "text": [
      "100%|██████████| 38/38 [00:00<00:00, 70.81it/s]"
     ]
    },
    {
     "name": "stdout",
     "output_type": "stream",
     "text": [
      "Test accuracy: 0.2417\n",
      "Test loss: 2.6530\n"
     ]
    },
    {
     "name": "stderr",
     "output_type": "stream",
     "text": [
      "\n"
     ]
    }
   ],
   "source": [
    "model = torch.load('output/Baseline.pt')\n",
    "test_acc, test_loss = test(model, test_loader)"
   ]
  },
  {
   "cell_type": "markdown",
   "metadata": {},
   "source": [
    "## Part 3: PointNet"
   ]
  },
  {
   "cell_type": "markdown",
   "metadata": {},
   "source": [
    "Now that we have a baseline to compare to, we're going to build a simplified version of PointNet which was first published in 2017 by researchers at Stanford University. You can view the original website for this publication [here](https://stanford.edu/~rqi/pointnet/). \n",
    "\n",
    "We will be slightly modifying the original architecture. The architecture described in the PointNet publication includes two modules that we will not be implementing. Namely, they are the input transform and the feature transform. We will also not be using our PointNet implementation for semantic segmentation so you can ignore that part of the architecture as well. For an architecture diagram of what we will be implementing, check the project pdf.\n",
    "\n",
    "**TODO 3**: complete `part3_pointnet.py`, use the architecture diagram in the project pdf for reference."
   ]
  },
  {
   "cell_type": "code",
   "execution_count": 6,
   "metadata": {},
   "outputs": [],
   "source": [
    "from tests.test_part3 import test_pointnet\n",
    "from vision.part3_pointnet import PointNet"
   ]
  },
  {
   "cell_type": "code",
   "execution_count": 7,
   "metadata": {},
   "outputs": [
    {
     "name": "stdout",
     "output_type": "stream",
     "text": [
      "test_pointnet():  \u001b[32m\"Correct\"\u001b[0m\n"
     ]
    }
   ],
   "source": [
    "print(\"test_pointnet(): \", verify(test_pointnet))"
   ]
  },
  {
   "cell_type": "markdown",
   "metadata": {},
   "source": [
    "Now that we have a PointNet implementation, lets train our model and see how it does. Fill in the hyper-parameters and give your new model a spin! \n",
    "\n",
    "To get full credit for this section, you will need *$\\geq$ 65% accuracy* on the test dataset. The TAs were able to consistently achieve this accuracy with ~15 epochs of training."
   ]
  },
  {
   "cell_type": "code",
   "execution_count": 12,
   "metadata": {},
   "outputs": [],
   "source": [
    "lr = 1e-4\n",
    "weight_decay = 1e-5\n",
    "epochs = 20\n",
    "\n",
    "model = PointNet(classes=20)\n",
    "optimizer = optim.Adam(model.parameters(), lr=lr, weight_decay=weight_decay)"
   ]
  },
  {
   "cell_type": "code",
   "execution_count": 13,
   "metadata": {},
   "outputs": [
    {
     "name": "stdout",
     "output_type": "stream",
     "text": [
      "Epoch 1\n",
      "\n",
      "Training...\n"
     ]
    },
    {
     "name": "stderr",
     "output_type": "stream",
     "text": [
      "100%|██████████| 213/213 [00:14<00:00, 15.20it/s]\n"
     ]
    },
    {
     "name": "stdout",
     "output_type": "stream",
     "text": [
      "\n",
      "Testing...\n"
     ]
    },
    {
     "name": "stderr",
     "output_type": "stream",
     "text": [
      "100%|██████████| 38/38 [00:03<00:00, 12.13it/s]\n"
     ]
    },
    {
     "name": "stdout",
     "output_type": "stream",
     "text": [
      "\n",
      "Epoch 1 Stats:\n",
      "\tTraining accuracy: 0.4224\n",
      "\tTraining loss: 1.9451\n",
      "\tValidation accuracy: 0.3383\n",
      "\tValidation loss: 2.0908\n",
      "\n",
      "Validation accuracy improved from 0 to 0.3383333384990692\n",
      "Saving model to PointNet.pt\n",
      "\n",
      "===============================================================================\n",
      "\n",
      "Epoch 2\n",
      "\n",
      "Training...\n"
     ]
    },
    {
     "name": "stderr",
     "output_type": "stream",
     "text": [
      "100%|██████████| 213/213 [00:09<00:00, 23.51it/s]\n"
     ]
    },
    {
     "name": "stdout",
     "output_type": "stream",
     "text": [
      "\n",
      "Testing...\n"
     ]
    },
    {
     "name": "stderr",
     "output_type": "stream",
     "text": [
      "100%|██████████| 38/38 [00:00<00:00, 51.07it/s]\n"
     ]
    },
    {
     "name": "stdout",
     "output_type": "stream",
     "text": [
      "\n",
      "Epoch 2 Stats:\n",
      "\tTraining accuracy: 0.5221\n",
      "\tTraining loss: 1.6706\n",
      "\tValidation accuracy: 0.3600\n",
      "\tValidation loss: 2.0066\n",
      "\n",
      "Validation accuracy improved from 0.3383333384990692 to 0.36000001430511475\n",
      "Saving model to PointNet.pt\n",
      "\n",
      "===============================================================================\n",
      "\n",
      "Epoch 3\n",
      "\n",
      "Training...\n"
     ]
    },
    {
     "name": "stderr",
     "output_type": "stream",
     "text": [
      "100%|██████████| 213/213 [00:11<00:00, 18.17it/s]\n"
     ]
    },
    {
     "name": "stdout",
     "output_type": "stream",
     "text": [
      "\n",
      "Testing...\n"
     ]
    },
    {
     "name": "stderr",
     "output_type": "stream",
     "text": [
      "100%|██████████| 38/38 [00:00<00:00, 45.84it/s]\n"
     ]
    },
    {
     "name": "stdout",
     "output_type": "stream",
     "text": [
      "\n",
      "Epoch 3 Stats:\n",
      "\tTraining accuracy: 0.5400\n",
      "\tTraining loss: 1.5742\n",
      "\tValidation accuracy: 0.4217\n",
      "\tValidation loss: 2.0301\n",
      "\n",
      "Validation accuracy improved from 0.36000001430511475 to 0.4216666519641876\n",
      "Saving model to PointNet.pt\n",
      "\n",
      "===============================================================================\n",
      "\n",
      "Epoch 4\n",
      "\n",
      "Training...\n"
     ]
    },
    {
     "name": "stderr",
     "output_type": "stream",
     "text": [
      "100%|██████████| 213/213 [00:09<00:00, 22.60it/s]\n"
     ]
    },
    {
     "name": "stdout",
     "output_type": "stream",
     "text": [
      "\n",
      "Testing...\n"
     ]
    },
    {
     "name": "stderr",
     "output_type": "stream",
     "text": [
      "100%|██████████| 38/38 [00:00<00:00, 49.06it/s]\n"
     ]
    },
    {
     "name": "stdout",
     "output_type": "stream",
     "text": [
      "\n",
      "Epoch 4 Stats:\n",
      "\tTraining accuracy: 0.5462\n",
      "\tTraining loss: 1.5190\n",
      "\tValidation accuracy: 0.4383\n",
      "\tValidation loss: 1.9499\n",
      "\n",
      "Validation accuracy improved from 0.4216666519641876 to 0.43833333253860474\n",
      "Saving model to PointNet.pt\n",
      "\n",
      "===============================================================================\n",
      "\n",
      "Epoch 5\n",
      "\n",
      "Training...\n"
     ]
    },
    {
     "name": "stderr",
     "output_type": "stream",
     "text": [
      "100%|██████████| 213/213 [00:09<00:00, 22.33it/s]\n"
     ]
    },
    {
     "name": "stdout",
     "output_type": "stream",
     "text": [
      "\n",
      "Testing...\n"
     ]
    },
    {
     "name": "stderr",
     "output_type": "stream",
     "text": [
      "100%|██████████| 38/38 [00:00<00:00, 49.27it/s]\n"
     ]
    },
    {
     "name": "stdout",
     "output_type": "stream",
     "text": [
      "\n",
      "Epoch 5 Stats:\n",
      "\tTraining accuracy: 0.5744\n",
      "\tTraining loss: 1.4555\n",
      "\tValidation accuracy: 0.4083\n",
      "\tValidation loss: 1.8167\n",
      "\n",
      "===============================================================================\n",
      "\n",
      "Epoch 6\n",
      "\n",
      "Training...\n"
     ]
    },
    {
     "name": "stderr",
     "output_type": "stream",
     "text": [
      "100%|██████████| 213/213 [00:09<00:00, 23.45it/s]\n"
     ]
    },
    {
     "name": "stdout",
     "output_type": "stream",
     "text": [
      "\n",
      "Testing...\n"
     ]
    },
    {
     "name": "stderr",
     "output_type": "stream",
     "text": [
      "100%|██████████| 38/38 [00:00<00:00, 50.73it/s]\n"
     ]
    },
    {
     "name": "stdout",
     "output_type": "stream",
     "text": [
      "\n",
      "Epoch 6 Stats:\n",
      "\tTraining accuracy: 0.5741\n",
      "\tTraining loss: 1.4328\n",
      "\tValidation accuracy: 0.4050\n",
      "\tValidation loss: 1.8209\n",
      "\n",
      "===============================================================================\n",
      "\n",
      "Epoch 7\n",
      "\n",
      "Training...\n"
     ]
    },
    {
     "name": "stderr",
     "output_type": "stream",
     "text": [
      "100%|██████████| 213/213 [00:09<00:00, 23.09it/s]\n"
     ]
    },
    {
     "name": "stdout",
     "output_type": "stream",
     "text": [
      "\n",
      "Testing...\n"
     ]
    },
    {
     "name": "stderr",
     "output_type": "stream",
     "text": [
      "100%|██████████| 38/38 [00:00<00:00, 51.60it/s]\n"
     ]
    },
    {
     "name": "stdout",
     "output_type": "stream",
     "text": [
      "\n",
      "Epoch 7 Stats:\n",
      "\tTraining accuracy: 0.5847\n",
      "\tTraining loss: 1.3942\n",
      "\tValidation accuracy: 0.4800\n",
      "\tValidation loss: 1.9262\n",
      "\n",
      "Validation accuracy improved from 0.43833333253860474 to 0.47999998927116394\n",
      "Saving model to PointNet.pt\n",
      "\n",
      "===============================================================================\n",
      "\n",
      "Epoch 8\n",
      "\n",
      "Training...\n"
     ]
    },
    {
     "name": "stderr",
     "output_type": "stream",
     "text": [
      "100%|██████████| 213/213 [00:08<00:00, 23.75it/s]\n"
     ]
    },
    {
     "name": "stdout",
     "output_type": "stream",
     "text": [
      "\n",
      "Testing...\n"
     ]
    },
    {
     "name": "stderr",
     "output_type": "stream",
     "text": [
      "100%|██████████| 38/38 [00:00<00:00, 50.70it/s]\n"
     ]
    },
    {
     "name": "stdout",
     "output_type": "stream",
     "text": [
      "\n",
      "Epoch 8 Stats:\n",
      "\tTraining accuracy: 0.5850\n",
      "\tTraining loss: 1.3774\n",
      "\tValidation accuracy: 0.4650\n",
      "\tValidation loss: 1.9171\n",
      "\n",
      "===============================================================================\n",
      "\n",
      "Epoch 9\n",
      "\n",
      "Training...\n"
     ]
    },
    {
     "name": "stderr",
     "output_type": "stream",
     "text": [
      "100%|██████████| 213/213 [00:08<00:00, 23.83it/s]\n"
     ]
    },
    {
     "name": "stdout",
     "output_type": "stream",
     "text": [
      "\n",
      "Testing...\n"
     ]
    },
    {
     "name": "stderr",
     "output_type": "stream",
     "text": [
      "100%|██████████| 38/38 [00:00<00:00, 50.06it/s]\n"
     ]
    },
    {
     "name": "stdout",
     "output_type": "stream",
     "text": [
      "\n",
      "Epoch 9 Stats:\n",
      "\tTraining accuracy: 0.6021\n",
      "\tTraining loss: 1.3398\n",
      "\tValidation accuracy: 0.4533\n",
      "\tValidation loss: 1.8975\n",
      "\n",
      "===============================================================================\n",
      "\n",
      "Epoch 10\n",
      "\n",
      "Training...\n"
     ]
    },
    {
     "name": "stderr",
     "output_type": "stream",
     "text": [
      "100%|██████████| 213/213 [00:09<00:00, 22.15it/s]\n"
     ]
    },
    {
     "name": "stdout",
     "output_type": "stream",
     "text": [
      "\n",
      "Testing...\n"
     ]
    },
    {
     "name": "stderr",
     "output_type": "stream",
     "text": [
      "100%|██████████| 38/38 [00:00<00:00, 50.29it/s]\n"
     ]
    },
    {
     "name": "stdout",
     "output_type": "stream",
     "text": [
      "\n",
      "Epoch 10 Stats:\n",
      "\tTraining accuracy: 0.5932\n",
      "\tTraining loss: 1.3429\n",
      "\tValidation accuracy: 0.4567\n",
      "\tValidation loss: 1.9343\n",
      "\n",
      "===============================================================================\n",
      "\n",
      "Epoch 11\n",
      "\n",
      "Training...\n"
     ]
    },
    {
     "name": "stderr",
     "output_type": "stream",
     "text": [
      "100%|██████████| 213/213 [00:09<00:00, 22.69it/s]\n"
     ]
    },
    {
     "name": "stdout",
     "output_type": "stream",
     "text": [
      "\n",
      "Testing...\n"
     ]
    },
    {
     "name": "stderr",
     "output_type": "stream",
     "text": [
      "100%|██████████| 38/38 [00:00<00:00, 50.42it/s]\n"
     ]
    },
    {
     "name": "stdout",
     "output_type": "stream",
     "text": [
      "\n",
      "Epoch 11 Stats:\n",
      "\tTraining accuracy: 0.6153\n",
      "\tTraining loss: 1.3135\n",
      "\tValidation accuracy: 0.5067\n",
      "\tValidation loss: 1.7255\n",
      "\n",
      "Validation accuracy improved from 0.47999998927116394 to 0.5066666603088379\n",
      "Saving model to PointNet.pt\n",
      "\n",
      "===============================================================================\n",
      "\n",
      "Epoch 12\n",
      "\n",
      "Training...\n"
     ]
    },
    {
     "name": "stderr",
     "output_type": "stream",
     "text": [
      "100%|██████████| 213/213 [00:09<00:00, 22.88it/s]\n"
     ]
    },
    {
     "name": "stdout",
     "output_type": "stream",
     "text": [
      "\n",
      "Testing...\n"
     ]
    },
    {
     "name": "stderr",
     "output_type": "stream",
     "text": [
      "100%|██████████| 38/38 [00:00<00:00, 51.33it/s]\n"
     ]
    },
    {
     "name": "stdout",
     "output_type": "stream",
     "text": [
      "\n",
      "Epoch 12 Stats:\n",
      "\tTraining accuracy: 0.6288\n",
      "\tTraining loss: 1.2918\n",
      "\tValidation accuracy: 0.4983\n",
      "\tValidation loss: 1.8881\n",
      "\n",
      "===============================================================================\n",
      "\n",
      "Epoch 13\n",
      "\n",
      "Training...\n"
     ]
    },
    {
     "name": "stderr",
     "output_type": "stream",
     "text": [
      "100%|██████████| 213/213 [00:09<00:00, 23.23it/s]\n"
     ]
    },
    {
     "name": "stdout",
     "output_type": "stream",
     "text": [
      "\n",
      "Testing...\n"
     ]
    },
    {
     "name": "stderr",
     "output_type": "stream",
     "text": [
      "100%|██████████| 38/38 [00:00<00:00, 50.97it/s]\n"
     ]
    },
    {
     "name": "stdout",
     "output_type": "stream",
     "text": [
      "\n",
      "Epoch 13 Stats:\n",
      "\tTraining accuracy: 0.6191\n",
      "\tTraining loss: 1.2936\n",
      "\tValidation accuracy: 0.4750\n",
      "\tValidation loss: 1.7486\n",
      "\n",
      "===============================================================================\n",
      "\n",
      "Epoch 14\n",
      "\n",
      "Training...\n"
     ]
    },
    {
     "name": "stderr",
     "output_type": "stream",
     "text": [
      "100%|██████████| 213/213 [00:08<00:00, 23.70it/s]\n"
     ]
    },
    {
     "name": "stdout",
     "output_type": "stream",
     "text": [
      "\n",
      "Testing...\n"
     ]
    },
    {
     "name": "stderr",
     "output_type": "stream",
     "text": [
      "100%|██████████| 38/38 [00:00<00:00, 56.49it/s]\n"
     ]
    },
    {
     "name": "stdout",
     "output_type": "stream",
     "text": [
      "\n",
      "Epoch 14 Stats:\n",
      "\tTraining accuracy: 0.6179\n",
      "\tTraining loss: 1.2468\n",
      "\tValidation accuracy: 0.4750\n",
      "\tValidation loss: 1.8514\n",
      "\n",
      "===============================================================================\n",
      "\n",
      "Epoch 15\n",
      "\n",
      "Training...\n"
     ]
    },
    {
     "name": "stderr",
     "output_type": "stream",
     "text": [
      "100%|██████████| 213/213 [00:08<00:00, 25.07it/s]\n"
     ]
    },
    {
     "name": "stdout",
     "output_type": "stream",
     "text": [
      "\n",
      "Testing...\n"
     ]
    },
    {
     "name": "stderr",
     "output_type": "stream",
     "text": [
      "100%|██████████| 38/38 [00:00<00:00, 58.13it/s]\n"
     ]
    },
    {
     "name": "stdout",
     "output_type": "stream",
     "text": [
      "\n",
      "Epoch 15 Stats:\n",
      "\tTraining accuracy: 0.6382\n",
      "\tTraining loss: 1.2332\n",
      "\tValidation accuracy: 0.4750\n",
      "\tValidation loss: 1.6689\n",
      "\n",
      "===============================================================================\n",
      "\n",
      "Epoch 16\n",
      "\n",
      "Training...\n"
     ]
    },
    {
     "name": "stderr",
     "output_type": "stream",
     "text": [
      "100%|██████████| 213/213 [00:08<00:00, 26.23it/s]\n"
     ]
    },
    {
     "name": "stdout",
     "output_type": "stream",
     "text": [
      "\n",
      "Testing...\n"
     ]
    },
    {
     "name": "stderr",
     "output_type": "stream",
     "text": [
      "100%|██████████| 38/38 [00:00<00:00, 57.54it/s]\n"
     ]
    },
    {
     "name": "stdout",
     "output_type": "stream",
     "text": [
      "\n",
      "Epoch 16 Stats:\n",
      "\tTraining accuracy: 0.6276\n",
      "\tTraining loss: 1.2475\n",
      "\tValidation accuracy: 0.4700\n",
      "\tValidation loss: 1.7666\n",
      "\n",
      "===============================================================================\n",
      "\n",
      "Epoch 17\n",
      "\n",
      "Training...\n"
     ]
    },
    {
     "name": "stderr",
     "output_type": "stream",
     "text": [
      "100%|██████████| 213/213 [00:08<00:00, 26.01it/s]\n"
     ]
    },
    {
     "name": "stdout",
     "output_type": "stream",
     "text": [
      "\n",
      "Testing...\n"
     ]
    },
    {
     "name": "stderr",
     "output_type": "stream",
     "text": [
      "100%|██████████| 38/38 [00:00<00:00, 59.99it/s]\n"
     ]
    },
    {
     "name": "stdout",
     "output_type": "stream",
     "text": [
      "\n",
      "Epoch 17 Stats:\n",
      "\tTraining accuracy: 0.6253\n",
      "\tTraining loss: 1.2250\n",
      "\tValidation accuracy: 0.5150\n",
      "\tValidation loss: 1.6804\n",
      "\n",
      "Validation accuracy improved from 0.5066666603088379 to 0.5149999856948853\n",
      "Saving model to PointNet.pt\n",
      "\n",
      "===============================================================================\n",
      "\n",
      "Epoch 18\n",
      "\n",
      "Training...\n"
     ]
    },
    {
     "name": "stderr",
     "output_type": "stream",
     "text": [
      "100%|██████████| 213/213 [00:08<00:00, 25.40it/s]\n"
     ]
    },
    {
     "name": "stdout",
     "output_type": "stream",
     "text": [
      "\n",
      "Testing...\n"
     ]
    },
    {
     "name": "stderr",
     "output_type": "stream",
     "text": [
      "100%|██████████| 38/38 [00:00<00:00, 56.42it/s]\n"
     ]
    },
    {
     "name": "stdout",
     "output_type": "stream",
     "text": [
      "\n",
      "Epoch 18 Stats:\n",
      "\tTraining accuracy: 0.6341\n",
      "\tTraining loss: 1.2262\n",
      "\tValidation accuracy: 0.5150\n",
      "\tValidation loss: 1.8185\n",
      "\n",
      "===============================================================================\n",
      "\n",
      "Epoch 19\n",
      "\n",
      "Training...\n"
     ]
    },
    {
     "name": "stderr",
     "output_type": "stream",
     "text": [
      "100%|██████████| 213/213 [00:08<00:00, 26.07it/s]\n"
     ]
    },
    {
     "name": "stdout",
     "output_type": "stream",
     "text": [
      "\n",
      "Testing...\n"
     ]
    },
    {
     "name": "stderr",
     "output_type": "stream",
     "text": [
      "100%|██████████| 38/38 [00:00<00:00, 60.17it/s]\n"
     ]
    },
    {
     "name": "stdout",
     "output_type": "stream",
     "text": [
      "\n",
      "Epoch 19 Stats:\n",
      "\tTraining accuracy: 0.6338\n",
      "\tTraining loss: 1.2182\n",
      "\tValidation accuracy: 0.4783\n",
      "\tValidation loss: 1.7942\n",
      "\n",
      "===============================================================================\n",
      "\n",
      "Epoch 20\n",
      "\n",
      "Training...\n"
     ]
    },
    {
     "name": "stderr",
     "output_type": "stream",
     "text": [
      "100%|██████████| 213/213 [00:08<00:00, 26.12it/s]\n"
     ]
    },
    {
     "name": "stdout",
     "output_type": "stream",
     "text": [
      "\n",
      "Testing...\n"
     ]
    },
    {
     "name": "stderr",
     "output_type": "stream",
     "text": [
      "100%|██████████| 38/38 [00:00<00:00, 57.36it/s]"
     ]
    },
    {
     "name": "stdout",
     "output_type": "stream",
     "text": [
      "\n",
      "Epoch 20 Stats:\n",
      "\tTraining accuracy: 0.6368\n",
      "\tTraining loss: 1.2200\n",
      "\tValidation accuracy: 0.4733\n",
      "\tValidation loss: 1.7510\n",
      "\n",
      "===============================================================================\n",
      "\n"
     ]
    },
    {
     "name": "stderr",
     "output_type": "stream",
     "text": [
      "\n"
     ]
    }
   ],
   "source": [
    "train_acc, train_loss, test_acc, test_loss = train(model, optimizer, epochs, train_loader, test_loader)"
   ]
  },
  {
   "cell_type": "code",
   "execution_count": 14,
   "metadata": {},
   "outputs": [
    {
     "name": "stderr",
     "output_type": "stream",
     "text": [
      "100%|██████████| 38/38 [00:00<00:00, 52.24it/s]"
     ]
    },
    {
     "name": "stdout",
     "output_type": "stream",
     "text": [
      "Test accuracy: 0.5150\n",
      "Test loss: 1.6848\n"
     ]
    },
    {
     "name": "stderr",
     "output_type": "stream",
     "text": [
      "\n"
     ]
    }
   ],
   "source": [
    "model = torch.load('output/PointNet.pt')\n",
    "test_acc, test_loss = test(model, test_loader)"
   ]
  },
  {
   "cell_type": "markdown",
   "metadata": {},
   "source": [
    "## Part 4: Performance Analysis"
   ]
  },
  {
   "cell_type": "markdown",
   "metadata": {},
   "source": [
    "Now that we have a trained PointNet model, we can look at how it performs and what its shortcomings are. We are also going to analyze our point clouds to see which parts of them the model deemed to be most important in making its classification decision.\n",
    "\n",
    "**TODO 4:** complete `part4_analysis.py`"
   ]
  },
  {
   "cell_type": "code",
   "execution_count": 15,
   "metadata": {},
   "outputs": [],
   "source": [
    "from vision.utils import (\n",
    "    generate_and_plot_confusion_matrix,\n",
    "    plot_crit_points_from_file\n",
    ")\n",
    "from tests.test_part4 import (\n",
    "    test_critical_indices,\n",
    "    test_critical_indices_with_duplicates,\n",
    "    test_confusion_matrix,\n",
    "    test_confusion_matrix_normalized\n",
    ")"
   ]
  },
  {
   "cell_type": "code",
   "execution_count": 16,
   "metadata": {},
   "outputs": [
    {
     "name": "stdout",
     "output_type": "stream",
     "text": [
      "test_critical_indices():  \u001b[32m\"Correct\"\u001b[0m\n",
      "test_critical_indices_with_duplicates():  \u001b[32m\"Correct\"\u001b[0m\n",
      "test_confusion_matrix():  \u001b[32m\"Correct\"\u001b[0m\n",
      "test_confusion_matrix_normalized():  \u001b[32m\"Correct\"\u001b[0m\n"
     ]
    }
   ],
   "source": [
    "print(\"test_critical_indices(): \", verify(test_critical_indices))\n",
    "print(\"test_critical_indices_with_duplicates(): \", verify(test_critical_indices_with_duplicates))\n",
    "print(\"test_confusion_matrix(): \", verify(test_confusion_matrix))\n",
    "print(\"test_confusion_matrix_normalized(): \", verify(test_confusion_matrix_normalized))"
   ]
  },
  {
   "cell_type": "markdown",
   "metadata": {},
   "source": [
    "Lets use the confusion matrix to look at which mistakes our model is making most often."
   ]
  },
  {
   "cell_type": "code",
   "execution_count": 17,
   "metadata": {},
   "outputs": [
    {
     "data": {
      "image/png": "[encoded data removed]",
      "text/plain": [
       "<Figure size 1000x1000 with 1 Axes>"
      ]
     },
     "metadata": {},
     "output_type": "display_data"
    }
   ],
   "source": [
    "generate_and_plot_confusion_matrix(model, test_loader, 20)"
   ]
  },
  {
   "cell_type": "markdown",
   "metadata": {},
   "source": [
    "Now lets visualize the critical points calculated by our model for the predestrian clouds from before. Recall that these are the points that contributed to the global feature. Why do you think these were the critical points the model ended up using? (Feel free to use different point clouds for your analysis)"
   ]
  },
  {
   "cell_type": "code",
   "execution_count": 18,
   "metadata": {},
   "outputs": [
    {
     "ename": "ValueError",
     "evalue": "Expected more than 1 value per channel when training, got input size torch.Size([1, 1024])",
     "output_type": "error",
     "traceback": [
      "\u001b[1;31m---------------------------------------------------------------------------\u001b[0m",
      "\u001b[1;31mValueError\u001b[0m                                Traceback (most recent call last)",
      "Cell \u001b[1;32mIn [18], line 1\u001b[0m\n\u001b[1;32m----> 1\u001b[0m plot_crit_points_from_file(model, \u001b[39m'\u001b[39;49m\u001b[39mdata/sweeps/PEDESTRIAN/11.txt\u001b[39;49m\u001b[39m'\u001b[39;49m, \u001b[39m200\u001b[39;49m)\n",
      "File \u001b[1;32mD:\\OneDrive - Georgia Institute of Technology\\Semesters\\6. Fall 2022\\CS 6476 (Computer Vision)\\Projects\\Extra Credit\\project-6\\src\\vision\\utils.py:203\u001b[0m, in \u001b[0;36mplot_crit_points_from_file\u001b[1;34m(model, file_path, pad_size)\u001b[0m\n\u001b[0;32m    201\u001b[0m pts_full[:pts\u001b[39m.\u001b[39mshape[\u001b[39m0\u001b[39m], :] \u001b[39m=\u001b[39m pts\n\u001b[0;32m    202\u001b[0m pts_full[pts\u001b[39m.\u001b[39mshape[\u001b[39m0\u001b[39m]:, :] \u001b[39m=\u001b[39m pts_full[\u001b[39m0\u001b[39m]\n\u001b[1;32m--> 203\u001b[0m crit_indices \u001b[39m=\u001b[39m get_critical_indices(model, pts_full)\n\u001b[0;32m    204\u001b[0m plot_critical_points(pts_full, crit_indices)\n",
      "File \u001b[1;32mD:\\OneDrive - Georgia Institute of Technology\\Semesters\\6. Fall 2022\\CS 6476 (Computer Vision)\\Projects\\Extra Credit\\project-6\\src\\vision\\part4_analysis.py:40\u001b[0m, in \u001b[0;36mget_critical_indices\u001b[1;34m(model, pts)\u001b[0m\n\u001b[0;32m     38\u001b[0m \u001b[39mif\u001b[39;00m \u001b[39mlen\u001b[39m(pts\u001b[39m.\u001b[39mshape) \u001b[39m==\u001b[39m \u001b[39m2\u001b[39m:\n\u001b[0;32m     39\u001b[0m         pts \u001b[39m=\u001b[39m torch\u001b[39m.\u001b[39munsqueeze(pts, \u001b[39m0\u001b[39m)\n\u001b[1;32m---> 40\u001b[0m encodings \u001b[39m=\u001b[39m model(pts)[\u001b[39m1\u001b[39m]\n\u001b[0;32m     41\u001b[0m crit_indices \u001b[39m=\u001b[39m torch\u001b[39m.\u001b[39margmax(encodings, dim\u001b[39m=\u001b[39m\u001b[39m1\u001b[39m)\n\u001b[0;32m     42\u001b[0m crit_indices \u001b[39m=\u001b[39m torch\u001b[39m.\u001b[39munique(crit_indices)\n",
      "File \u001b[1;32mc:\\Users\\shuvo\\.conda\\envs\\cv_proj6\\lib\\site-packages\\torch\\nn\\modules\\module.py:1190\u001b[0m, in \u001b[0;36mModule._call_impl\u001b[1;34m(self, *input, **kwargs)\u001b[0m\n\u001b[0;32m   1186\u001b[0m \u001b[39m# If we don't have any hooks, we want to skip the rest of the logic in\u001b[39;00m\n\u001b[0;32m   1187\u001b[0m \u001b[39m# this function, and just call forward.\u001b[39;00m\n\u001b[0;32m   1188\u001b[0m \u001b[39mif\u001b[39;00m \u001b[39mnot\u001b[39;00m (\u001b[39mself\u001b[39m\u001b[39m.\u001b[39m_backward_hooks \u001b[39mor\u001b[39;00m \u001b[39mself\u001b[39m\u001b[39m.\u001b[39m_forward_hooks \u001b[39mor\u001b[39;00m \u001b[39mself\u001b[39m\u001b[39m.\u001b[39m_forward_pre_hooks \u001b[39mor\u001b[39;00m _global_backward_hooks\n\u001b[0;32m   1189\u001b[0m         \u001b[39mor\u001b[39;00m _global_forward_hooks \u001b[39mor\u001b[39;00m _global_forward_pre_hooks):\n\u001b[1;32m-> 1190\u001b[0m     \u001b[39mreturn\u001b[39;00m forward_call(\u001b[39m*\u001b[39;49m\u001b[39minput\u001b[39;49m, \u001b[39m*\u001b[39;49m\u001b[39m*\u001b[39;49mkwargs)\n\u001b[0;32m   1191\u001b[0m \u001b[39m# Do not call functions when jit is used\u001b[39;00m\n\u001b[0;32m   1192\u001b[0m full_backward_hooks, non_full_backward_hooks \u001b[39m=\u001b[39m [], []\n",
      "File \u001b[1;32mD:\\OneDrive - Georgia Institute of Technology\\Semesters\\6. Fall 2022\\CS 6476 (Computer Vision)\\Projects\\Extra Credit\\project-6\\src\\vision\\part3_pointnet.py:91\u001b[0m, in \u001b[0;36mPointNet.forward\u001b[1;34m(self, x)\u001b[0m\n\u001b[0;32m     89\u001b[0m encodings \u001b[39m=\u001b[39m \u001b[39mself\u001b[39m\u001b[39m.\u001b[39mencoder_head(x)\n\u001b[0;32m     90\u001b[0m global_maxima \u001b[39m=\u001b[39m torch\u001b[39m.\u001b[39mmax(encodings, dim\u001b[39m=\u001b[39m\u001b[39m1\u001b[39m)[\u001b[39m0\u001b[39m]\n\u001b[1;32m---> 91\u001b[0m class_outputs \u001b[39m=\u001b[39m \u001b[39mself\u001b[39;49m\u001b[39m.\u001b[39;49mclassifier_head(global_maxima)\n\u001b[0;32m     93\u001b[0m \u001b[39m# raise NotImplementedError(\u001b[39;00m\n\u001b[0;32m     94\u001b[0m \u001b[39m#     \"`forward` function in \"\u001b[39;00m\n\u001b[0;32m     95\u001b[0m \u001b[39m#     + \"`part3_pointnet.py` needs to be implemented\"\u001b[39;00m\n\u001b[1;32m   (...)\u001b[0m\n\u001b[0;32m     99\u001b[0m \u001b[39m# Student code end\u001b[39;00m\n\u001b[0;32m    100\u001b[0m \u001b[39m############################################################################\u001b[39;00m\n\u001b[0;32m    102\u001b[0m \u001b[39mreturn\u001b[39;00m class_outputs, encodings\n",
      "File \u001b[1;32mc:\\Users\\shuvo\\.conda\\envs\\cv_proj6\\lib\\site-packages\\torch\\nn\\modules\\module.py:1190\u001b[0m, in \u001b[0;36mModule._call_impl\u001b[1;34m(self, *input, **kwargs)\u001b[0m\n\u001b[0;32m   1186\u001b[0m \u001b[39m# If we don't have any hooks, we want to skip the rest of the logic in\u001b[39;00m\n\u001b[0;32m   1187\u001b[0m \u001b[39m# this function, and just call forward.\u001b[39;00m\n\u001b[0;32m   1188\u001b[0m \u001b[39mif\u001b[39;00m \u001b[39mnot\u001b[39;00m (\u001b[39mself\u001b[39m\u001b[39m.\u001b[39m_backward_hooks \u001b[39mor\u001b[39;00m \u001b[39mself\u001b[39m\u001b[39m.\u001b[39m_forward_hooks \u001b[39mor\u001b[39;00m \u001b[39mself\u001b[39m\u001b[39m.\u001b[39m_forward_pre_hooks \u001b[39mor\u001b[39;00m _global_backward_hooks\n\u001b[0;32m   1189\u001b[0m         \u001b[39mor\u001b[39;00m _global_forward_hooks \u001b[39mor\u001b[39;00m _global_forward_pre_hooks):\n\u001b[1;32m-> 1190\u001b[0m     \u001b[39mreturn\u001b[39;00m forward_call(\u001b[39m*\u001b[39;49m\u001b[39minput\u001b[39;49m, \u001b[39m*\u001b[39;49m\u001b[39m*\u001b[39;49mkwargs)\n\u001b[0;32m   1191\u001b[0m \u001b[39m# Do not call functions when jit is used\u001b[39;00m\n\u001b[0;32m   1192\u001b[0m full_backward_hooks, non_full_backward_hooks \u001b[39m=\u001b[39m [], []\n",
      "File \u001b[1;32mc:\\Users\\shuvo\\.conda\\envs\\cv_proj6\\lib\\site-packages\\torch\\nn\\modules\\container.py:204\u001b[0m, in \u001b[0;36mSequential.forward\u001b[1;34m(self, input)\u001b[0m\n\u001b[0;32m    202\u001b[0m \u001b[39mdef\u001b[39;00m \u001b[39mforward\u001b[39m(\u001b[39mself\u001b[39m, \u001b[39minput\u001b[39m):\n\u001b[0;32m    203\u001b[0m     \u001b[39mfor\u001b[39;00m module \u001b[39min\u001b[39;00m \u001b[39mself\u001b[39m:\n\u001b[1;32m--> 204\u001b[0m         \u001b[39minput\u001b[39m \u001b[39m=\u001b[39m module(\u001b[39minput\u001b[39;49m)\n\u001b[0;32m    205\u001b[0m     \u001b[39mreturn\u001b[39;00m \u001b[39minput\u001b[39m\n",
      "File \u001b[1;32mc:\\Users\\shuvo\\.conda\\envs\\cv_proj6\\lib\\site-packages\\torch\\nn\\modules\\module.py:1190\u001b[0m, in \u001b[0;36mModule._call_impl\u001b[1;34m(self, *input, **kwargs)\u001b[0m\n\u001b[0;32m   1186\u001b[0m \u001b[39m# If we don't have any hooks, we want to skip the rest of the logic in\u001b[39;00m\n\u001b[0;32m   1187\u001b[0m \u001b[39m# this function, and just call forward.\u001b[39;00m\n\u001b[0;32m   1188\u001b[0m \u001b[39mif\u001b[39;00m \u001b[39mnot\u001b[39;00m (\u001b[39mself\u001b[39m\u001b[39m.\u001b[39m_backward_hooks \u001b[39mor\u001b[39;00m \u001b[39mself\u001b[39m\u001b[39m.\u001b[39m_forward_hooks \u001b[39mor\u001b[39;00m \u001b[39mself\u001b[39m\u001b[39m.\u001b[39m_forward_pre_hooks \u001b[39mor\u001b[39;00m _global_backward_hooks\n\u001b[0;32m   1189\u001b[0m         \u001b[39mor\u001b[39;00m _global_forward_hooks \u001b[39mor\u001b[39;00m _global_forward_pre_hooks):\n\u001b[1;32m-> 1190\u001b[0m     \u001b[39mreturn\u001b[39;00m forward_call(\u001b[39m*\u001b[39;49m\u001b[39minput\u001b[39;49m, \u001b[39m*\u001b[39;49m\u001b[39m*\u001b[39;49mkwargs)\n\u001b[0;32m   1191\u001b[0m \u001b[39m# Do not call functions when jit is used\u001b[39;00m\n\u001b[0;32m   1192\u001b[0m full_backward_hooks, non_full_backward_hooks \u001b[39m=\u001b[39m [], []\n",
      "File \u001b[1;32mc:\\Users\\shuvo\\.conda\\envs\\cv_proj6\\lib\\site-packages\\torch\\nn\\modules\\batchnorm.py:171\u001b[0m, in \u001b[0;36m_BatchNorm.forward\u001b[1;34m(self, input)\u001b[0m\n\u001b[0;32m    164\u001b[0m     bn_training \u001b[39m=\u001b[39m (\u001b[39mself\u001b[39m\u001b[39m.\u001b[39mrunning_mean \u001b[39mis\u001b[39;00m \u001b[39mNone\u001b[39;00m) \u001b[39mand\u001b[39;00m (\u001b[39mself\u001b[39m\u001b[39m.\u001b[39mrunning_var \u001b[39mis\u001b[39;00m \u001b[39mNone\u001b[39;00m)\n\u001b[0;32m    166\u001b[0m \u001b[39mr\u001b[39m\u001b[39m\"\"\"\u001b[39;00m\n\u001b[0;32m    167\u001b[0m \u001b[39mBuffers are only updated if they are to be tracked and we are in training mode. Thus they only need to be\u001b[39;00m\n\u001b[0;32m    168\u001b[0m \u001b[39mpassed when the update should occur (i.e. in training mode when they are tracked), or when buffer stats are\u001b[39;00m\n\u001b[0;32m    169\u001b[0m \u001b[39mused for normalization (i.e. in eval mode when buffers are not None).\u001b[39;00m\n\u001b[0;32m    170\u001b[0m \u001b[39m\"\"\"\u001b[39;00m\n\u001b[1;32m--> 171\u001b[0m \u001b[39mreturn\u001b[39;00m F\u001b[39m.\u001b[39;49mbatch_norm(\n\u001b[0;32m    172\u001b[0m     \u001b[39minput\u001b[39;49m,\n\u001b[0;32m    173\u001b[0m     \u001b[39m# If buffers are not to be tracked, ensure that they won't be updated\u001b[39;49;00m\n\u001b[0;32m    174\u001b[0m     \u001b[39mself\u001b[39;49m\u001b[39m.\u001b[39;49mrunning_mean\n\u001b[0;32m    175\u001b[0m     \u001b[39mif\u001b[39;49;00m \u001b[39mnot\u001b[39;49;00m \u001b[39mself\u001b[39;49m\u001b[39m.\u001b[39;49mtraining \u001b[39mor\u001b[39;49;00m \u001b[39mself\u001b[39;49m\u001b[39m.\u001b[39;49mtrack_running_stats\n\u001b[0;32m    176\u001b[0m     \u001b[39melse\u001b[39;49;00m \u001b[39mNone\u001b[39;49;00m,\n\u001b[0;32m    177\u001b[0m     \u001b[39mself\u001b[39;49m\u001b[39m.\u001b[39;49mrunning_var \u001b[39mif\u001b[39;49;00m \u001b[39mnot\u001b[39;49;00m \u001b[39mself\u001b[39;49m\u001b[39m.\u001b[39;49mtraining \u001b[39mor\u001b[39;49;00m \u001b[39mself\u001b[39;49m\u001b[39m.\u001b[39;49mtrack_running_stats \u001b[39melse\u001b[39;49;00m \u001b[39mNone\u001b[39;49;00m,\n\u001b[0;32m    178\u001b[0m     \u001b[39mself\u001b[39;49m\u001b[39m.\u001b[39;49mweight,\n\u001b[0;32m    179\u001b[0m     \u001b[39mself\u001b[39;49m\u001b[39m.\u001b[39;49mbias,\n\u001b[0;32m    180\u001b[0m     bn_training,\n\u001b[0;32m    181\u001b[0m     exponential_average_factor,\n\u001b[0;32m    182\u001b[0m     \u001b[39mself\u001b[39;49m\u001b[39m.\u001b[39;49meps,\n\u001b[0;32m    183\u001b[0m )\n",
      "File \u001b[1;32mc:\\Users\\shuvo\\.conda\\envs\\cv_proj6\\lib\\site-packages\\torch\\nn\\functional.py:2448\u001b[0m, in \u001b[0;36mbatch_norm\u001b[1;34m(input, running_mean, running_var, weight, bias, training, momentum, eps)\u001b[0m\n\u001b[0;32m   2435\u001b[0m     \u001b[39mreturn\u001b[39;00m handle_torch_function(\n\u001b[0;32m   2436\u001b[0m         batch_norm,\n\u001b[0;32m   2437\u001b[0m         (\u001b[39minput\u001b[39m, running_mean, running_var, weight, bias),\n\u001b[1;32m   (...)\u001b[0m\n\u001b[0;32m   2445\u001b[0m         eps\u001b[39m=\u001b[39meps,\n\u001b[0;32m   2446\u001b[0m     )\n\u001b[0;32m   2447\u001b[0m \u001b[39mif\u001b[39;00m training:\n\u001b[1;32m-> 2448\u001b[0m     _verify_batch_size(\u001b[39minput\u001b[39;49m\u001b[39m.\u001b[39;49msize())\n\u001b[0;32m   2450\u001b[0m \u001b[39mreturn\u001b[39;00m torch\u001b[39m.\u001b[39mbatch_norm(\n\u001b[0;32m   2451\u001b[0m     \u001b[39minput\u001b[39m, weight, bias, running_mean, running_var, training, momentum, eps, torch\u001b[39m.\u001b[39mbackends\u001b[39m.\u001b[39mcudnn\u001b[39m.\u001b[39menabled\n\u001b[0;32m   2452\u001b[0m )\n",
      "File \u001b[1;32mc:\\Users\\shuvo\\.conda\\envs\\cv_proj6\\lib\\site-packages\\torch\\nn\\functional.py:2416\u001b[0m, in \u001b[0;36m_verify_batch_size\u001b[1;34m(size)\u001b[0m\n\u001b[0;32m   2414\u001b[0m     size_prods \u001b[39m*\u001b[39m\u001b[39m=\u001b[39m size[i \u001b[39m+\u001b[39m \u001b[39m2\u001b[39m]\n\u001b[0;32m   2415\u001b[0m \u001b[39mif\u001b[39;00m size_prods \u001b[39m==\u001b[39m \u001b[39m1\u001b[39m:\n\u001b[1;32m-> 2416\u001b[0m     \u001b[39mraise\u001b[39;00m \u001b[39mValueError\u001b[39;00m(\u001b[39m\"\u001b[39m\u001b[39mExpected more than 1 value per channel when training, got input size \u001b[39m\u001b[39m{}\u001b[39;00m\u001b[39m\"\u001b[39m\u001b[39m.\u001b[39mformat(size))\n",
      "\u001b[1;31mValueError\u001b[0m: Expected more than 1 value per channel when training, got input size torch.Size([1, 1024])"
     ]
    }
   ],
   "source": [
    "plot_crit_points_from_file(model, 'data/sweeps/PEDESTRIAN/11.txt', 200)"
   ]
  },
  {
   "cell_type": "markdown",
   "metadata": {},
   "source": [
    "## Part 5: Positional Encoding"
   ]
  },
  {
   "cell_type": "markdown",
   "metadata": {},
   "source": [
    "Our basic PointNet model does pretty well. But let's see if we can do any better. One proposed solution to improve on the shortcomings of the basic PointNet model is using positional encoding (see pdf for more details). \n",
    "\n",
    "**TODO 5:** complete `part5_positional_encoding.py`"
   ]
  },
  {
   "cell_type": "code",
   "execution_count": 19,
   "metadata": {},
   "outputs": [],
   "source": [
    "from vision.part5_positional_encoding import PointNetPosEncoding\n",
    "from tests.test_part5 import (\n",
    "    test_positional_encoding,\n",
    "    test_pointnet_with_positional_encoding\n",
    ")"
   ]
  },
  {
   "cell_type": "code",
   "execution_count": 20,
   "metadata": {},
   "outputs": [
    {
     "name": "stdout",
     "output_type": "stream",
     "text": [
      "test_positional_encoding():  \u001b[31m\"Wrong\"\u001b[0m\n",
      "test_pointnet_with_positional_encoding():  \u001b[32m\"Correct\"\u001b[0m\n"
     ]
    }
   ],
   "source": [
    "print(\"test_positional_encoding(): \", verify(test_positional_encoding))\n",
    "print(\"test_pointnet_with_positional_encoding(): \", verify(test_pointnet_with_positional_encoding))"
   ]
  },
  {
   "cell_type": "markdown",
   "metadata": {},
   "source": [
    "Lets check out how our model performs now that we added positional encoding.\n",
    "\n",
    "To get full credit for this section, you will need *$\\geq$ 65% accuracy* on the test dataset. The TAs were able to consistently achieve this accuracy with ~10 epochs of training."
   ]
  },
  {
   "cell_type": "code",
   "execution_count": 21,
   "metadata": {},
   "outputs": [],
   "source": [
    "lr = 1e-4\n",
    "weight_decay = 1e-5\n",
    "epochs = 20\n",
    "\n",
    "model = PointNetPosEncoding(classes=20)\n",
    "optimizer = optim.Adam(model.parameters(), lr=lr, weight_decay=weight_decay)"
   ]
  },
  {
   "cell_type": "code",
   "execution_count": 22,
   "metadata": {},
   "outputs": [
    {
     "name": "stdout",
     "output_type": "stream",
     "text": [
      "Epoch 1\n",
      "\n",
      "Training...\n"
     ]
    },
    {
     "name": "stderr",
     "output_type": "stream",
     "text": [
      "100%|██████████| 213/213 [00:09<00:00, 21.62it/s]\n"
     ]
    },
    {
     "name": "stdout",
     "output_type": "stream",
     "text": [
      "\n",
      "Testing...\n"
     ]
    },
    {
     "name": "stderr",
     "output_type": "stream",
     "text": [
      "100%|██████████| 38/38 [00:01<00:00, 27.60it/s]\n"
     ]
    },
    {
     "name": "stdout",
     "output_type": "stream",
     "text": [
      "\n",
      "Epoch 1 Stats:\n",
      "\tTraining accuracy: 0.4474\n",
      "\tTraining loss: 1.8405\n",
      "\tValidation accuracy: 0.4233\n",
      "\tValidation loss: 1.8231\n",
      "\n",
      "Validation accuracy improved from 0 to 0.4233333468437195\n",
      "Saving model to PointNetPosEncoding.pt\n",
      "\n",
      "===============================================================================\n",
      "\n",
      "Epoch 2\n",
      "\n",
      "Training...\n"
     ]
    },
    {
     "name": "stderr",
     "output_type": "stream",
     "text": [
      "100%|██████████| 213/213 [00:11<00:00, 18.96it/s]\n"
     ]
    },
    {
     "name": "stdout",
     "output_type": "stream",
     "text": [
      "\n",
      "Testing...\n"
     ]
    },
    {
     "name": "stderr",
     "output_type": "stream",
     "text": [
      "100%|██████████| 38/38 [00:00<00:00, 45.11it/s]\n"
     ]
    },
    {
     "name": "stdout",
     "output_type": "stream",
     "text": [
      "\n",
      "Epoch 2 Stats:\n",
      "\tTraining accuracy: 0.7012\n",
      "\tTraining loss: 1.1313\n",
      "\tValidation accuracy: 0.4450\n",
      "\tValidation loss: 1.6931\n",
      "\n",
      "Validation accuracy improved from 0.4233333468437195 to 0.4449999928474426\n",
      "Saving model to PointNetPosEncoding.pt\n",
      "\n",
      "===============================================================================\n",
      "\n",
      "Epoch 3\n",
      "\n",
      "Training...\n"
     ]
    },
    {
     "name": "stderr",
     "output_type": "stream",
     "text": [
      "100%|██████████| 213/213 [00:10<00:00, 21.24it/s]\n"
     ]
    },
    {
     "name": "stdout",
     "output_type": "stream",
     "text": [
      "\n",
      "Testing...\n"
     ]
    },
    {
     "name": "stderr",
     "output_type": "stream",
     "text": [
      "100%|██████████| 38/38 [00:00<00:00, 45.38it/s]\n"
     ]
    },
    {
     "name": "stdout",
     "output_type": "stream",
     "text": [
      "\n",
      "Epoch 3 Stats:\n",
      "\tTraining accuracy: 0.7926\n",
      "\tTraining loss: 0.8149\n",
      "\tValidation accuracy: 0.4250\n",
      "\tValidation loss: 1.7809\n",
      "\n",
      "===============================================================================\n",
      "\n",
      "Epoch 4\n",
      "\n",
      "Training...\n"
     ]
    },
    {
     "name": "stderr",
     "output_type": "stream",
     "text": [
      "100%|██████████| 213/213 [00:09<00:00, 22.49it/s]\n"
     ]
    },
    {
     "name": "stdout",
     "output_type": "stream",
     "text": [
      "\n",
      "Testing...\n"
     ]
    },
    {
     "name": "stderr",
     "output_type": "stream",
     "text": [
      "100%|██████████| 38/38 [00:00<00:00, 46.07it/s]\n"
     ]
    },
    {
     "name": "stdout",
     "output_type": "stream",
     "text": [
      "\n",
      "Epoch 4 Stats:\n",
      "\tTraining accuracy: 0.8635\n",
      "\tTraining loss: 0.5896\n",
      "\tValidation accuracy: 0.4750\n",
      "\tValidation loss: 1.8013\n",
      "\n",
      "Validation accuracy improved from 0.4449999928474426 to 0.4749999940395355\n",
      "Saving model to PointNetPosEncoding.pt\n",
      "\n",
      "===============================================================================\n",
      "\n",
      "Epoch 5\n",
      "\n",
      "Training...\n"
     ]
    },
    {
     "name": "stderr",
     "output_type": "stream",
     "text": [
      "100%|██████████| 213/213 [00:09<00:00, 21.87it/s]\n"
     ]
    },
    {
     "name": "stdout",
     "output_type": "stream",
     "text": [
      "\n",
      "Testing...\n"
     ]
    },
    {
     "name": "stderr",
     "output_type": "stream",
     "text": [
      "100%|██████████| 38/38 [00:00<00:00, 45.44it/s]\n"
     ]
    },
    {
     "name": "stdout",
     "output_type": "stream",
     "text": [
      "\n",
      "Epoch 5 Stats:\n",
      "\tTraining accuracy: 0.9241\n",
      "\tTraining loss: 0.3996\n",
      "\tValidation accuracy: 0.4933\n",
      "\tValidation loss: 1.7279\n",
      "\n",
      "Validation accuracy improved from 0.4749999940395355 to 0.4933333396911621\n",
      "Saving model to PointNetPosEncoding.pt\n",
      "\n",
      "===============================================================================\n",
      "\n",
      "Epoch 6\n",
      "\n",
      "Training...\n"
     ]
    },
    {
     "name": "stderr",
     "output_type": "stream",
     "text": [
      "100%|██████████| 213/213 [00:09<00:00, 21.96it/s]\n"
     ]
    },
    {
     "name": "stdout",
     "output_type": "stream",
     "text": [
      "\n",
      "Testing...\n"
     ]
    },
    {
     "name": "stderr",
     "output_type": "stream",
     "text": [
      "100%|██████████| 38/38 [00:00<00:00, 43.10it/s]\n"
     ]
    },
    {
     "name": "stdout",
     "output_type": "stream",
     "text": [
      "\n",
      "Epoch 6 Stats:\n",
      "\tTraining accuracy: 0.9579\n",
      "\tTraining loss: 0.2753\n",
      "\tValidation accuracy: 0.4717\n",
      "\tValidation loss: 1.8359\n",
      "\n",
      "===============================================================================\n",
      "\n",
      "Epoch 7\n",
      "\n",
      "Training...\n"
     ]
    },
    {
     "name": "stderr",
     "output_type": "stream",
     "text": [
      "100%|██████████| 213/213 [00:09<00:00, 22.24it/s]\n"
     ]
    },
    {
     "name": "stdout",
     "output_type": "stream",
     "text": [
      "\n",
      "Testing...\n"
     ]
    },
    {
     "name": "stderr",
     "output_type": "stream",
     "text": [
      "100%|██████████| 38/38 [00:00<00:00, 40.94it/s]\n"
     ]
    },
    {
     "name": "stdout",
     "output_type": "stream",
     "text": [
      "\n",
      "Epoch 7 Stats:\n",
      "\tTraining accuracy: 0.9774\n",
      "\tTraining loss: 0.1954\n",
      "\tValidation accuracy: 0.4517\n",
      "\tValidation loss: 1.9058\n",
      "\n",
      "===============================================================================\n",
      "\n",
      "Epoch 8\n",
      "\n",
      "Training...\n"
     ]
    },
    {
     "name": "stderr",
     "output_type": "stream",
     "text": [
      "100%|██████████| 213/213 [00:10<00:00, 19.84it/s]\n"
     ]
    },
    {
     "name": "stdout",
     "output_type": "stream",
     "text": [
      "\n",
      "Testing...\n"
     ]
    },
    {
     "name": "stderr",
     "output_type": "stream",
     "text": [
      "100%|██████████| 38/38 [00:00<00:00, 44.45it/s]\n"
     ]
    },
    {
     "name": "stdout",
     "output_type": "stream",
     "text": [
      "\n",
      "Epoch 8 Stats:\n",
      "\tTraining accuracy: 0.9891\n",
      "\tTraining loss: 0.1289\n",
      "\tValidation accuracy: 0.4767\n",
      "\tValidation loss: 1.8739\n",
      "\n",
      "===============================================================================\n",
      "\n",
      "Epoch 9\n",
      "\n",
      "Training...\n"
     ]
    },
    {
     "name": "stderr",
     "output_type": "stream",
     "text": [
      "100%|██████████| 213/213 [00:10<00:00, 20.82it/s]\n"
     ]
    },
    {
     "name": "stdout",
     "output_type": "stream",
     "text": [
      "\n",
      "Testing...\n"
     ]
    },
    {
     "name": "stderr",
     "output_type": "stream",
     "text": [
      "100%|██████████| 38/38 [00:00<00:00, 42.91it/s]\n"
     ]
    },
    {
     "name": "stdout",
     "output_type": "stream",
     "text": [
      "\n",
      "Epoch 9 Stats:\n",
      "\tTraining accuracy: 0.9959\n",
      "\tTraining loss: 0.0943\n",
      "\tValidation accuracy: 0.4750\n",
      "\tValidation loss: 1.9531\n",
      "\n",
      "===============================================================================\n",
      "\n",
      "Epoch 10\n",
      "\n",
      "Training...\n"
     ]
    },
    {
     "name": "stderr",
     "output_type": "stream",
     "text": [
      "100%|██████████| 213/213 [00:10<00:00, 21.14it/s]\n"
     ]
    },
    {
     "name": "stdout",
     "output_type": "stream",
     "text": [
      "\n",
      "Testing...\n"
     ]
    },
    {
     "name": "stderr",
     "output_type": "stream",
     "text": [
      "100%|██████████| 38/38 [00:00<00:00, 42.93it/s]\n"
     ]
    },
    {
     "name": "stdout",
     "output_type": "stream",
     "text": [
      "\n",
      "Epoch 10 Stats:\n",
      "\tTraining accuracy: 0.9968\n",
      "\tTraining loss: 0.0778\n",
      "\tValidation accuracy: 0.4900\n",
      "\tValidation loss: 1.8938\n",
      "\n",
      "===============================================================================\n",
      "\n",
      "Epoch 11\n",
      "\n",
      "Training...\n"
     ]
    },
    {
     "name": "stderr",
     "output_type": "stream",
     "text": [
      "100%|██████████| 213/213 [00:10<00:00, 21.26it/s]\n"
     ]
    },
    {
     "name": "stdout",
     "output_type": "stream",
     "text": [
      "\n",
      "Testing...\n"
     ]
    },
    {
     "name": "stderr",
     "output_type": "stream",
     "text": [
      "100%|██████████| 38/38 [00:00<00:00, 44.07it/s]\n"
     ]
    },
    {
     "name": "stdout",
     "output_type": "stream",
     "text": [
      "\n",
      "Epoch 11 Stats:\n",
      "\tTraining accuracy: 0.9974\n",
      "\tTraining loss: 0.0588\n",
      "\tValidation accuracy: 0.4950\n",
      "\tValidation loss: 1.9272\n",
      "\n",
      "Validation accuracy improved from 0.4933333396911621 to 0.4950000047683716\n",
      "Saving model to PointNetPosEncoding.pt\n",
      "\n",
      "===============================================================================\n",
      "\n",
      "Epoch 12\n",
      "\n",
      "Training...\n"
     ]
    },
    {
     "name": "stderr",
     "output_type": "stream",
     "text": [
      "100%|██████████| 213/213 [00:10<00:00, 21.10it/s]\n"
     ]
    },
    {
     "name": "stdout",
     "output_type": "stream",
     "text": [
      "\n",
      "Testing...\n"
     ]
    },
    {
     "name": "stderr",
     "output_type": "stream",
     "text": [
      "100%|██████████| 38/38 [00:00<00:00, 44.54it/s]\n"
     ]
    },
    {
     "name": "stdout",
     "output_type": "stream",
     "text": [
      "\n",
      "Epoch 12 Stats:\n",
      "\tTraining accuracy: 0.9959\n",
      "\tTraining loss: 0.0509\n",
      "\tValidation accuracy: 0.4667\n",
      "\tValidation loss: 2.0431\n",
      "\n",
      "===============================================================================\n",
      "\n",
      "Epoch 13\n",
      "\n",
      "Training...\n"
     ]
    },
    {
     "name": "stderr",
     "output_type": "stream",
     "text": [
      "100%|██████████| 213/213 [00:09<00:00, 22.15it/s]\n"
     ]
    },
    {
     "name": "stdout",
     "output_type": "stream",
     "text": [
      "\n",
      "Testing...\n"
     ]
    },
    {
     "name": "stderr",
     "output_type": "stream",
     "text": [
      "100%|██████████| 38/38 [00:00<00:00, 44.94it/s]\n"
     ]
    },
    {
     "name": "stdout",
     "output_type": "stream",
     "text": [
      "\n",
      "Epoch 13 Stats:\n",
      "\tTraining accuracy: 0.9982\n",
      "\tTraining loss: 0.0430\n",
      "\tValidation accuracy: 0.4717\n",
      "\tValidation loss: 2.1096\n",
      "\n",
      "===============================================================================\n",
      "\n",
      "Epoch 14\n",
      "\n",
      "Training...\n"
     ]
    },
    {
     "name": "stderr",
     "output_type": "stream",
     "text": [
      "100%|██████████| 213/213 [00:09<00:00, 22.53it/s]\n"
     ]
    },
    {
     "name": "stdout",
     "output_type": "stream",
     "text": [
      "\n",
      "Testing...\n"
     ]
    },
    {
     "name": "stderr",
     "output_type": "stream",
     "text": [
      "100%|██████████| 38/38 [00:00<00:00, 45.03it/s]\n"
     ]
    },
    {
     "name": "stdout",
     "output_type": "stream",
     "text": [
      "\n",
      "Epoch 14 Stats:\n",
      "\tTraining accuracy: 0.9991\n",
      "\tTraining loss: 0.0338\n",
      "\tValidation accuracy: 0.4983\n",
      "\tValidation loss: 2.0580\n",
      "\n",
      "Validation accuracy improved from 0.4950000047683716 to 0.4983333349227905\n",
      "Saving model to PointNetPosEncoding.pt\n",
      "\n",
      "===============================================================================\n",
      "\n",
      "Epoch 15\n",
      "\n",
      "Training...\n"
     ]
    },
    {
     "name": "stderr",
     "output_type": "stream",
     "text": [
      "100%|██████████| 213/213 [00:10<00:00, 20.98it/s]\n"
     ]
    },
    {
     "name": "stdout",
     "output_type": "stream",
     "text": [
      "\n",
      "Testing...\n"
     ]
    },
    {
     "name": "stderr",
     "output_type": "stream",
     "text": [
      "100%|██████████| 38/38 [00:00<00:00, 38.88it/s]\n"
     ]
    },
    {
     "name": "stdout",
     "output_type": "stream",
     "text": [
      "\n",
      "Epoch 15 Stats:\n",
      "\tTraining accuracy: 0.9988\n",
      "\tTraining loss: 0.0333\n",
      "\tValidation accuracy: 0.4550\n",
      "\tValidation loss: 2.1926\n",
      "\n",
      "===============================================================================\n",
      "\n",
      "Epoch 16\n",
      "\n",
      "Training...\n"
     ]
    },
    {
     "name": "stderr",
     "output_type": "stream",
     "text": [
      "100%|██████████| 213/213 [00:10<00:00, 19.68it/s]\n"
     ]
    },
    {
     "name": "stdout",
     "output_type": "stream",
     "text": [
      "\n",
      "Testing...\n"
     ]
    },
    {
     "name": "stderr",
     "output_type": "stream",
     "text": [
      "100%|██████████| 38/38 [00:01<00:00, 37.31it/s]\n"
     ]
    },
    {
     "name": "stdout",
     "output_type": "stream",
     "text": [
      "\n",
      "Epoch 16 Stats:\n",
      "\tTraining accuracy: 0.9988\n",
      "\tTraining loss: 0.0253\n",
      "\tValidation accuracy: 0.4700\n",
      "\tValidation loss: 2.1655\n",
      "\n",
      "===============================================================================\n",
      "\n",
      "Epoch 17\n",
      "\n",
      "Training...\n"
     ]
    },
    {
     "name": "stderr",
     "output_type": "stream",
     "text": [
      "100%|██████████| 213/213 [00:09<00:00, 21.33it/s]\n"
     ]
    },
    {
     "name": "stdout",
     "output_type": "stream",
     "text": [
      "\n",
      "Testing...\n"
     ]
    },
    {
     "name": "stderr",
     "output_type": "stream",
     "text": [
      "100%|██████████| 38/38 [00:00<00:00, 42.85it/s]\n"
     ]
    },
    {
     "name": "stdout",
     "output_type": "stream",
     "text": [
      "\n",
      "Epoch 17 Stats:\n",
      "\tTraining accuracy: 0.9979\n",
      "\tTraining loss: 0.0252\n",
      "\tValidation accuracy: 0.4533\n",
      "\tValidation loss: 2.3297\n",
      "\n",
      "===============================================================================\n",
      "\n",
      "Epoch 18\n",
      "\n",
      "Training...\n"
     ]
    },
    {
     "name": "stderr",
     "output_type": "stream",
     "text": [
      "100%|██████████| 213/213 [00:09<00:00, 21.69it/s]\n"
     ]
    },
    {
     "name": "stdout",
     "output_type": "stream",
     "text": [
      "\n",
      "Testing...\n"
     ]
    },
    {
     "name": "stderr",
     "output_type": "stream",
     "text": [
      "100%|██████████| 38/38 [00:00<00:00, 41.21it/s]\n"
     ]
    },
    {
     "name": "stdout",
     "output_type": "stream",
     "text": [
      "\n",
      "Epoch 18 Stats:\n",
      "\tTraining accuracy: 0.9965\n",
      "\tTraining loss: 0.0314\n",
      "\tValidation accuracy: 0.4883\n",
      "\tValidation loss: 2.2636\n",
      "\n",
      "===============================================================================\n",
      "\n",
      "Epoch 19\n",
      "\n",
      "Training...\n"
     ]
    },
    {
     "name": "stderr",
     "output_type": "stream",
     "text": [
      "100%|██████████| 213/213 [00:09<00:00, 21.72it/s]\n"
     ]
    },
    {
     "name": "stdout",
     "output_type": "stream",
     "text": [
      "\n",
      "Testing...\n"
     ]
    },
    {
     "name": "stderr",
     "output_type": "stream",
     "text": [
      "100%|██████████| 38/38 [00:00<00:00, 39.46it/s]\n"
     ]
    },
    {
     "name": "stdout",
     "output_type": "stream",
     "text": [
      "\n",
      "Epoch 19 Stats:\n",
      "\tTraining accuracy: 0.9965\n",
      "\tTraining loss: 0.0381\n",
      "\tValidation accuracy: 0.4667\n",
      "\tValidation loss: 2.3919\n",
      "\n",
      "===============================================================================\n",
      "\n",
      "Epoch 20\n",
      "\n",
      "Training...\n"
     ]
    },
    {
     "name": "stderr",
     "output_type": "stream",
     "text": [
      "100%|██████████| 213/213 [00:09<00:00, 21.78it/s]\n"
     ]
    },
    {
     "name": "stdout",
     "output_type": "stream",
     "text": [
      "\n",
      "Testing...\n"
     ]
    },
    {
     "name": "stderr",
     "output_type": "stream",
     "text": [
      "100%|██████████| 38/38 [00:00<00:00, 44.05it/s]\n"
     ]
    },
    {
     "name": "stdout",
     "output_type": "stream",
     "text": [
      "\n",
      "Epoch 20 Stats:\n",
      "\tTraining accuracy: 0.9974\n",
      "\tTraining loss: 0.0318\n",
      "\tValidation accuracy: 0.4517\n",
      "\tValidation loss: 2.4973\n",
      "\n",
      "===============================================================================\n",
      "\n"
     ]
    }
   ],
   "source": [
    "train_acc, train_loss, test_acc, test_loss = train(model, optimizer, epochs, train_loader, test_loader)"
   ]
  },
  {
   "cell_type": "code",
   "execution_count": 23,
   "metadata": {},
   "outputs": [
    {
     "name": "stderr",
     "output_type": "stream",
     "text": [
      "100%|██████████| 38/38 [00:00<00:00, 45.09it/s]"
     ]
    },
    {
     "name": "stdout",
     "output_type": "stream",
     "text": [
      "Test accuracy: 0.4983\n",
      "Test loss: 2.0810\n"
     ]
    },
    {
     "name": "stderr",
     "output_type": "stream",
     "text": [
      "\n"
     ]
    }
   ],
   "source": [
    "model = torch.load('output/PointNetPosEncoding.pt')\n",
    "test_acc, test_loss = test(model, test_loader)"
   ]
  },
  {
   "cell_type": "markdown",
   "metadata": {},
   "source": [
    "Lets take a look at how the addition of positional encoding improved on the performance of our original PointNet model. Which classes does the positional encoding help the most with? Which ones does it not really seem to make much of a difference for? Why?"
   ]
  },
  {
   "cell_type": "code",
   "execution_count": 26,
   "metadata": {},
   "outputs": [
    {
     "data": {
      "image/png": "[encoded data removed]",
      "text/plain": [
       "<Figure size 1000x1000 with 1 Axes>"
      ]
     },
     "metadata": {},
     "output_type": "display_data"
    }
   ],
   "source": [
    "generate_and_plot_confusion_matrix(model, test_loader, 20)"
   ]
  },
  {
   "cell_type": "code",
   "execution_count": 27,
   "metadata": {},
   "outputs": [
    {
     "data": {
      "application/vnd.plotly.v1+json": {
       "config": {
        "plotlyServerURL": "https://plot.ly"
       },
       "data": [
        {
         "line": {
          "color": "rgba(0,0,0,0)"
         },
         "marker": {
          "color": [
           "red",
           "red",
           "red",
           "blue",
           "red",
           "red",
           "red",
           "red",
           "red",
           "red",
           "red",
           "red",
           "red",
           "red",
           "blue",
           "red",
           "red",
           "blue",
           "blue",
           "red",
           "red",
           "red",
           "red",
           "red",
           "red",
           "red",
           "red",
           "red",
           "blue",
           "blue",
           "red",
           "red",
           "red",
           "red",
           "blue",
           "red",
           "red",
           "red",
           "blue",
           "red",
           "blue",
           "red",
           "red",
           "red",
           "red",
           "red",
           "red",
           "blue",
           "blue",
           "red",
           "blue",
           "red",
           "red",
           "blue",
           "blue",
           "red",
           "blue",
           "blue",
           "blue",
           "blue",
           "blue",
           "blue",
           "red",
           "red",
           "blue",
           "red",
           "red",
           "blue",
           "blue",
           "blue",
           "blue",
           "red",
           "blue",
           "red",
           "blue",
           "red",
           "red",
           "red",
           "red",
           "blue",
           "blue",
           "red",
           "red",
           "red",
           "blue",
           "red",
           "red",
           "red",
           "blue",
           "blue",
           "red",
           "red",
           "blue",
           "red",
           "red",
           "red",
           "red",
           "red",
           "blue",
           "red",
           "blue",
           "red",
           "red",
           "blue",
           "red",
           "blue",
           "red",
           "red",
           "blue",
           "blue",
           "red",
           "red",
           "blue",
           "blue",
           "red",
           "red",
           "red",
           "blue",
           "blue",
           "red",
           "red",
           "red",
           "red",
           "blue",
           "red",
           "red",
           "blue",
           "red",
           "red",
           "red",
           "blue",
           "red",
           "red",
           "red",
           "red",
           "red",
           "red",
           "red",
           "red",
           "red",
           "red",
           "red",
           "red",
           "red",
           "red",
           "blue",
           "red",
           "red",
           "red",
           "red",
           "red",
           "red",
           "red",
           "blue",
           "blue",
           "blue",
           "blue",
           "blue",
           "blue",
           "blue",
           "blue",
           "blue",
           "blue",
           "blue",
           "blue",
           "blue",
           "blue",
           "blue",
           "blue",
           "blue",
           "blue",
           "blue",
           "blue",
           "blue",
           "blue",
           "blue",
           "blue",
           "blue",
           "blue",
           "blue",
           "blue",
           "blue",
           "blue",
           "blue",
           "blue",
           "blue",
           "blue",
           "blue",
           "blue",
           "blue",
           "blue",
           "blue",
           "blue",
           "blue",
           "blue",
           "blue",
           "blue",
           "blue",
           "red",
           "blue"
          ]
         },
         "scene": "scene",
         "type": "scatter3d",
         "x": [
          0.1484375,
          0.171875,
          0.1328125,
          0.1484375,
          0.203125,
          0.078125,
          0.1640625,
          0.2265625,
          0.1875,
          0.21875,
          0.1015625,
          0.078125,
          0.1171875,
          0.0859375,
          0.171875,
          0.2265625,
          0.21875,
          0.1640625,
          0.1796875,
          0.21875,
          0.2578125,
          0.1015625,
          0.1484375,
          0.1328125,
          0.2578125,
          0.109375,
          0.046875,
          0.15625,
          0.1796875,
          0.2265625,
          0.2265625,
          0.2578125,
          0.0625,
          0.2421875,
          0.109375,
          0.046875,
          0.2578125,
          0.1484375,
          0.1796875,
          -0.015625,
          0.109375,
          0.0625,
          0.1796875,
          0.28125,
          0,
          0.0859375,
          -0.0703125,
          0.109375,
          0.0078125,
          0.2265625,
          0.1953125,
          0,
          0.28125,
          0.15625,
          0.21875,
          0.2578125,
          0.0546875,
          0.015625,
          0.1796875,
          0.1875,
          0.0625,
          0.109375,
          0.0390625,
          0.2578125,
          0.1171875,
          0.2578125,
          -0.046875,
          0.0703125,
          0.140625,
          0.0078125,
          0.015625,
          0.09375,
          0.171875,
          -0.0859375,
          0.125,
          0.125,
          0.3203125,
          0.28125,
          -0.0546875,
          0.203125,
          0.015625,
          -0.0625,
          -0.140625,
          -0.1015625,
          0.28125,
          0.2265625,
          0,
          0.28125,
          0.0546875,
          -0.0234375,
          0.015625,
          0.1953125,
          0.1640625,
          0.125,
          0.0859375,
          0.0234375,
          0.1328125,
          -0.0625,
          -0.046875,
          -0.0546875,
          0.2109375,
          -0.1484375,
          -0.0703125,
          -0.0625,
          0.2890625,
          0.1796875,
          -0.078125,
          0.1328125,
          0.046875,
          0.078125,
          -0.1171875,
          0.1171875,
          0.1328125,
          0.2265625,
          -0.09375,
          0.1796875,
          0.0546875,
          0.203125,
          0.15625,
          0.1484375,
          0.078125,
          -0.078125,
          0,
          0.1328125,
          0.1875,
          0.2421875,
          0.046875,
          -0.015625,
          0.1015625,
          -0.0546875,
          -0.078125,
          0.171875,
          -0.0390625,
          -0.1171875,
          0.046875,
          0.046875,
          -0.1640625,
          0.1953125,
          -0.078125,
          0.0625,
          0.03125,
          0.0546875,
          0.1015625,
          0,
          0.109375,
          -0.1640625,
          -0.0078125,
          -0.140625,
          -0.1796875,
          0.0625,
          -0.203125,
          -0.0078125,
          -0.3203125,
          0.1484375,
          0.1484375,
          0.1484375,
          0.1484375,
          0.1484375,
          0.1484375,
          0.1484375,
          0.1484375,
          0.1484375,
          0.1484375,
          0.1484375,
          0.1484375,
          0.1484375,
          0.1484375,
          0.1484375,
          0.1484375,
          0.1484375,
          0.1484375,
          0.1484375,
          0.1484375,
          0.1484375,
          0.1484375,
          0.1484375,
          0.1484375,
          0.1484375,
          0.1484375,
          0.1484375,
          0.1484375,
          0.1484375,
          0.1484375,
          0.1484375,
          0.1484375,
          0.1484375,
          0.1484375,
          0.1484375,
          0.1484375,
          0.1484375,
          0.1484375,
          0.1484375,
          0.1484375,
          0.1484375,
          0.1484375,
          0.1484375,
          0.1484375,
          0.1484375,
          0.1484375,
          0.1484375
         ],
         "y": [
          0.140625,
          0.0859375,
          0.125,
          0.078125,
          0.0546875,
          0.1640625,
          0.09375,
          -0.0078125,
          0.03125,
          -0.0234375,
          0.1171875,
          0.1640625,
          0.1328125,
          0.1640625,
          0.015625,
          0.0078125,
          -0.03125,
          0.03125,
          0.0078125,
          -0.015625,
          -0.078125,
          0.1015625,
          0.0625,
          0.0625,
          -0.0390625,
          0.1015625,
          0.1484375,
          0.078125,
          0.015625,
          -0.0078125,
          0,
          -0.046875,
          0.1328125,
          -0.0703125,
          0.109375,
          0.1328125,
          -0.046875,
          0.0703125,
          0.0234375,
          0.2265625,
          0.109375,
          0.1484375,
          0.0234375,
          -0.1015625,
          0.1640625,
          0.0859375,
          0.25,
          0.0234375,
          0.1796875,
          -0.1015625,
          -0.0390625,
          0.1640625,
          -0.1015625,
          0,
          -0.046875,
          -0.1171875,
          0.140625,
          0.171875,
          -0.0078125,
          -0.046875,
          0.1171875,
          0.0546875,
          0.1171875,
          -0.1484375,
          0.03125,
          -0.109375,
          0.203125,
          0.0859375,
          0.0078125,
          0.171875,
          0.1484375,
          0.0625,
          -0.0390625,
          0.234375,
          -0.03125,
          0.015625,
          -0.203125,
          -0.1640625,
          0.1875,
          -0.0859375,
          0.1171875,
          0.203125,
          0.25,
          0.21875,
          -0.171875,
          -0.1171875,
          0.0703125,
          -0.171875,
          0.0703125,
          0.15625,
          0.109375,
          -0.1171875,
          -0.0546875,
          -0.015625,
          0.0234375,
          0.0234375,
          -0.0234375,
          0.1640625,
          0.125,
          0.1328125,
          -0.15625,
          0.1953125,
          0.109375,
          0.09375,
          -0.234375,
          -0.109375,
          0.171875,
          -0.0234375,
          -0.03125,
          0.0078125,
          0.1484375,
          -0.0234375,
          -0.0546875,
          -0.1796875,
          0.1640625,
          -0.1171875,
          0.015625,
          -0.1875,
          -0.109375,
          -0.078125,
          -0.03125,
          0.046875,
          0.046875,
          -0.0859375,
          -0.1796875,
          -0.25,
          -0.0078125,
          -0.046875,
          -0.046875,
          -0.0078125,
          0.0234375,
          -0.171875,
          -0.0234375,
          0.0625,
          -0.015625,
          -0.015625,
          0.0859375,
          -0.2421875,
          0.0546875,
          -0.078125,
          -0.046875,
          -0.09375,
          -0.1171875,
          -0.0625,
          -0.1953125,
          -0.0390625,
          -0.0859375,
          -0.09375,
          -0.0625,
          -0.234375,
          -0.0703125,
          -0.15625,
          -0.1015625,
          0.140625,
          0.140625,
          0.140625,
          0.140625,
          0.140625,
          0.140625,
          0.140625,
          0.140625,
          0.140625,
          0.140625,
          0.140625,
          0.140625,
          0.140625,
          0.140625,
          0.140625,
          0.140625,
          0.140625,
          0.140625,
          0.140625,
          0.140625,
          0.140625,
          0.140625,
          0.140625,
          0.140625,
          0.140625,
          0.140625,
          0.140625,
          0.140625,
          0.140625,
          0.140625,
          0.140625,
          0.140625,
          0.140625,
          0.140625,
          0.140625,
          0.140625,
          0.140625,
          0.140625,
          0.140625,
          0.140625,
          0.140625,
          0.140625,
          0.140625,
          0.140625,
          0.140625,
          0.140625,
          0.140625
         ],
         "z": [
          0.1502685546875,
          0.0506591796875,
          0.0501708984375,
          -0.1265869140625,
          0.3328857421875,
          0.0491943359375,
          0.3328857421875,
          -0.0430908203125,
          -0.0435791015625,
          -0.4195556640625,
          -0.1270751953125,
          0.1483154296875,
          0.3319091796875,
          0.3319091796875,
          -0.4205322265625,
          0.3328857421875,
          -0.2325439453125,
          -0.1270751953125,
          -0.2330322265625,
          0.0491943359375,
          -0.2325439453125,
          -0.0450439453125,
          0.1419677734375,
          -0.0450439453125,
          0.3328857421875,
          0.1414794921875,
          -0.1285400390625,
          0.4237060546875,
          0.1419677734375,
          0.4237060546875,
          0.5155029296875,
          0.4246826171875,
          0.1405029296875,
          0.0487060546875,
          0.4237060546875,
          -0.0465087890625,
          0.5155029296875,
          0.5145263671875,
          0.4237060546875,
          0.3309326171875,
          0.5145263671875,
          0.4227294921875,
          0.5145263671875,
          0.4237060546875,
          0.0457763671875,
          0.2337646484375,
          0.1453857421875,
          -0.2364501953125,
          0.3309326171875,
          -0.1417236328125,
          0.2342529296875,
          0.1395263671875,
          0.5155029296875,
          0.2342529296875,
          0.4227294921875,
          0.1478271484375,
          0.5145263671875,
          0.4227294921875,
          0.4217529296875,
          0.1405029296875,
          0.4217529296875,
          0.3280029296875,
          0.2332763671875,
          -0.1422119140625,
          0.2337646484375,
          0.3319091796875,
          0.1453857421875,
          0.3280029296875,
          0.3280029296875,
          0.5135498046875,
          0.4207763671875,
          0.4217529296875,
          0.3280029296875,
          0.2318115234375,
          -0.1441650390625,
          0.4217529296875,
          0.3319091796875,
          0.3309326171875,
          0.2318115234375,
          0.3280029296875,
          0.3270263671875,
          0.3270263671875,
          -0.1475830078125,
          0.1370849609375,
          0.4227294921875,
          0.4207763671875,
          -0.1466064453125,
          0.5145263671875,
          0.5145263671875,
          0.5135498046875,
          0.5145263671875,
          0.2322998046875,
          0.5145263671875,
          0.5145263671875,
          0.5145263671875,
          -0.1475830078125,
          0.6053466796875,
          0.4197998046875,
          0.2303466796875,
          0.3250732421875,
          0.3270263671875,
          -0.1363525390625,
          -0.0528564453125,
          -0.1490478515625,
          0.4227294921875,
          0.5145263671875,
          0.5135498046875,
          0.7899169921875,
          -0.1485595703125,
          0.6053466796875,
          -0.1363525390625,
          0.6981201171875,
          0.6072998046875,
          0.4197998046875,
          0.4197998046875,
          0.6053466796875,
          0.6072998046875,
          0.2308349609375,
          0.6072998046875,
          0.7899169921875,
          0.6072998046875,
          -0.510986328125,
          0.6063232421875,
          0.6981201171875,
          0.5135498046875,
          0.4188232421875,
          0.6981201171875,
          -0.51171875,
          0.8817138671875,
          -0.51220703125,
          -0.2469482421875,
          0.6072998046875,
          -0.2464599609375,
          -0.2474365234375,
          0.7899169921875,
          0.8817138671875,
          -0.2491455078125,
          0.5125732421875,
          0.6053466796875,
          0.7957763671875,
          0.7947998046875,
          0.7010498046875,
          0.8826904296875,
          0.7010498046875,
          0.7010498046875,
          -0.63665771484375,
          0.8895263671875,
          -0.63739013671875,
          -0.8753662109375,
          0.7947998046875,
          -0.4495849609375,
          0.8895263671875,
          -0.8895263671875,
          0.1502685546875,
          0.1502685546875,
          0.1502685546875,
          0.1502685546875,
          0.1502685546875,
          0.1502685546875,
          0.1502685546875,
          0.1502685546875,
          0.1502685546875,
          0.1502685546875,
          0.1502685546875,
          0.1502685546875,
          0.1502685546875,
          0.1502685546875,
          0.1502685546875,
          0.1502685546875,
          0.1502685546875,
          0.1502685546875,
          0.1502685546875,
          0.1502685546875,
          0.1502685546875,
          0.1502685546875,
          0.1502685546875,
          0.1502685546875,
          0.1502685546875,
          0.1502685546875,
          0.1502685546875,
          0.1502685546875,
          0.1502685546875,
          0.1502685546875,
          0.1502685546875,
          0.1502685546875,
          0.1502685546875,
          0.1502685546875,
          0.1502685546875,
          0.1502685546875,
          0.1502685546875,
          0.1502685546875,
          0.1502685546875,
          0.1502685546875,
          0.1502685546875,
          0.1502685546875,
          0.1502685546875,
          0.1502685546875,
          0.1502685546875,
          0.1502685546875,
          0.1502685546875
         ]
        },
        {
         "line": {
          "color": "rgba(0,0,0,0)"
         },
         "marker": {
          "color": "red"
         },
         "scene": "scene2",
         "type": "scatter3d",
         "x": [
          0.1484375,
          0.171875,
          0.1328125,
          0.203125,
          0.078125,
          0.1640625,
          0.2265625,
          0.1875,
          0.21875,
          0.1015625,
          0.078125,
          0.1171875,
          0.0859375,
          0.2265625,
          0.21875,
          0.21875,
          0.2578125,
          0.1015625,
          0.1484375,
          0.1328125,
          0.2578125,
          0.109375,
          0.046875,
          0.15625,
          0.2265625,
          0.2578125,
          0.0625,
          0.2421875,
          0.046875,
          0.2578125,
          0.1484375,
          -0.015625,
          0.0625,
          0.1796875,
          0.28125,
          0,
          0.0859375,
          -0.0703125,
          0.2265625,
          0,
          0.28125,
          0.2578125,
          0.0390625,
          0.2578125,
          0.2578125,
          -0.046875,
          0.09375,
          -0.0859375,
          0.125,
          0.3203125,
          0.28125,
          -0.0546875,
          -0.0625,
          -0.140625,
          -0.1015625,
          0.2265625,
          0,
          0.28125,
          0.015625,
          0.1953125,
          0.125,
          0.0859375,
          0.0234375,
          0.1328125,
          -0.0625,
          -0.0546875,
          -0.1484375,
          -0.0703125,
          0.2890625,
          -0.078125,
          0.1328125,
          -0.1171875,
          0.1171875,
          -0.09375,
          0.1796875,
          0.0546875,
          0.1484375,
          0.078125,
          -0.078125,
          0,
          0.1875,
          0.2421875,
          -0.015625,
          0.1015625,
          -0.0546875,
          0.171875,
          -0.0390625,
          -0.1171875,
          0.046875,
          0.046875,
          -0.1640625,
          0.1953125,
          -0.078125,
          0.0625,
          0.03125,
          0.0546875,
          0.1015625,
          0,
          0.109375,
          -0.0078125,
          -0.140625,
          -0.1796875,
          0.0625,
          -0.203125,
          -0.0078125,
          -0.3203125,
          0.1484375
         ],
         "y": [
          0.140625,
          0.0859375,
          0.125,
          0.0546875,
          0.1640625,
          0.09375,
          -0.0078125,
          0.03125,
          -0.0234375,
          0.1171875,
          0.1640625,
          0.1328125,
          0.1640625,
          0.0078125,
          -0.03125,
          -0.015625,
          -0.078125,
          0.1015625,
          0.0625,
          0.0625,
          -0.0390625,
          0.1015625,
          0.1484375,
          0.078125,
          0,
          -0.046875,
          0.1328125,
          -0.0703125,
          0.1328125,
          -0.046875,
          0.0703125,
          0.2265625,
          0.1484375,
          0.0234375,
          -0.1015625,
          0.1640625,
          0.0859375,
          0.25,
          -0.1015625,
          0.1640625,
          -0.1015625,
          -0.1171875,
          0.1171875,
          -0.1484375,
          -0.109375,
          0.203125,
          0.0625,
          0.234375,
          0.015625,
          -0.203125,
          -0.1640625,
          0.1875,
          0.203125,
          0.25,
          0.21875,
          -0.1171875,
          0.0703125,
          -0.171875,
          0.109375,
          -0.1171875,
          -0.015625,
          0.0234375,
          0.0234375,
          -0.0234375,
          0.1640625,
          0.1328125,
          0.1953125,
          0.109375,
          -0.234375,
          0.171875,
          -0.0234375,
          0.1484375,
          -0.0234375,
          0.1640625,
          -0.1171875,
          0.015625,
          -0.078125,
          -0.03125,
          0.046875,
          0.046875,
          -0.1796875,
          -0.25,
          -0.046875,
          -0.046875,
          -0.0078125,
          -0.171875,
          -0.0234375,
          0.0625,
          -0.015625,
          -0.015625,
          0.0859375,
          -0.2421875,
          0.0546875,
          -0.078125,
          -0.046875,
          -0.09375,
          -0.1171875,
          -0.0625,
          -0.1953125,
          -0.0859375,
          -0.09375,
          -0.0625,
          -0.234375,
          -0.0703125,
          -0.15625,
          -0.1015625,
          0.140625
         ],
         "z": [
          0.1502685546875,
          0.0506591796875,
          0.0501708984375,
          0.3328857421875,
          0.0491943359375,
          0.3328857421875,
          -0.0430908203125,
          -0.0435791015625,
          -0.4195556640625,
          -0.1270751953125,
          0.1483154296875,
          0.3319091796875,
          0.3319091796875,
          0.3328857421875,
          -0.2325439453125,
          0.0491943359375,
          -0.2325439453125,
          -0.0450439453125,
          0.1419677734375,
          -0.0450439453125,
          0.3328857421875,
          0.1414794921875,
          -0.1285400390625,
          0.4237060546875,
          0.5155029296875,
          0.4246826171875,
          0.1405029296875,
          0.0487060546875,
          -0.0465087890625,
          0.5155029296875,
          0.5145263671875,
          0.3309326171875,
          0.4227294921875,
          0.5145263671875,
          0.4237060546875,
          0.0457763671875,
          0.2337646484375,
          0.1453857421875,
          -0.1417236328125,
          0.1395263671875,
          0.5155029296875,
          0.1478271484375,
          0.2332763671875,
          -0.1422119140625,
          0.3319091796875,
          0.1453857421875,
          0.4217529296875,
          0.2318115234375,
          0.4217529296875,
          0.3319091796875,
          0.3309326171875,
          0.2318115234375,
          0.3270263671875,
          -0.1475830078125,
          0.1370849609375,
          0.4207763671875,
          -0.1466064453125,
          0.5145263671875,
          0.5145263671875,
          0.2322998046875,
          0.5145263671875,
          0.5145263671875,
          -0.1475830078125,
          0.6053466796875,
          0.4197998046875,
          0.3250732421875,
          -0.1363525390625,
          -0.0528564453125,
          0.4227294921875,
          0.5135498046875,
          0.7899169921875,
          -0.1363525390625,
          0.6981201171875,
          0.4197998046875,
          0.6053466796875,
          0.6072998046875,
          0.7899169921875,
          0.6072998046875,
          -0.510986328125,
          0.6063232421875,
          0.5135498046875,
          0.4188232421875,
          -0.51171875,
          0.8817138671875,
          -0.51220703125,
          0.6072998046875,
          -0.2464599609375,
          -0.2474365234375,
          0.7899169921875,
          0.8817138671875,
          -0.2491455078125,
          0.5125732421875,
          0.6053466796875,
          0.7957763671875,
          0.7947998046875,
          0.7010498046875,
          0.8826904296875,
          0.7010498046875,
          0.7010498046875,
          0.8895263671875,
          -0.63739013671875,
          -0.8753662109375,
          0.7947998046875,
          -0.4495849609375,
          0.8895263671875,
          -0.8895263671875,
          0.1502685546875
         ]
        }
       ],
       "layout": {
        "annotations": [
         {
          "font": {
           "size": 16
          },
          "showarrow": false,
          "text": "All Points",
          "x": 0.225,
          "xanchor": "center",
          "xref": "paper",
          "y": 1,
          "yanchor": "bottom",
          "yref": "paper"
         },
         {
          "font": {
           "size": 16
          },
          "showarrow": false,
          "text": "Critical Points",
          "x": 0.775,
          "xanchor": "center",
          "xref": "paper",
          "y": 1,
          "yanchor": "bottom",
          "yref": "paper"
         }
        ],
        "scene": {
         "domain": {
          "x": [
           0,
           0.45
          ],
          "y": [
           0,
           1
          ]
         }
        },
        "scene2": {
         "domain": {
          "x": [
           0.55,
           1
          ],
          "y": [
           0,
           1
          ]
         }
        },
        "template": {
         "data": {
          "bar": [
           {
            "error_x": {
             "color": "#2a3f5f"
            },
            "error_y": {
             "color": "#2a3f5f"
            },
            "marker": {
             "line": {
              "color": "#E5ECF6",
              "width": 0.5
             },
             "pattern": {
              "fillmode": "overlay",
              "size": 10,
              "solidity": 0.2
             }
            },
            "type": "bar"
           }
          ],
          "barpolar": [
           {
            "marker": {
             "line": {
              "color": "#E5ECF6",
              "width": 0.5
             },
             "pattern": {
              "fillmode": "overlay",
              "size": 10,
              "solidity": 0.2
             }
            },
            "type": "barpolar"
           }
          ],
          "carpet": [
           {
            "aaxis": {
             "endlinecolor": "#2a3f5f",
             "gridcolor": "white",
             "linecolor": "white",
             "minorgridcolor": "white",
             "startlinecolor": "#2a3f5f"
            },
            "baxis": {
             "endlinecolor": "#2a3f5f",
             "gridcolor": "white",
             "linecolor": "white",
             "minorgridcolor": "white",
             "startlinecolor": "#2a3f5f"
            },
            "type": "carpet"
           }
          ],
          "choropleth": [
           {
            "colorbar": {
             "outlinewidth": 0,
             "ticks": ""
            },
            "type": "choropleth"
           }
          ],
          "contour": [
           {
            "colorbar": {
             "outlinewidth": 0,
             "ticks": ""
            },
            "colorscale": [
             [
              0,
              "#0d0887"
             ],
             [
              0.1111111111111111,
              "#46039f"
             ],
             [
              0.2222222222222222,
              "#7201a8"
             ],
             [
              0.3333333333333333,
              "#9c179e"
             ],
             [
              0.4444444444444444,
              "#bd3786"
             ],
             [
              0.5555555555555556,
              "#d8576b"
             ],
             [
              0.6666666666666666,
              "#ed7953"
             ],
             [
              0.7777777777777778,
              "#fb9f3a"
             ],
             [
              0.8888888888888888,
              "#fdca26"
             ],
             [
              1,
              "#f0f921"
             ]
            ],
            "type": "contour"
           }
          ],
          "contourcarpet": [
           {
            "colorbar": {
             "outlinewidth": 0,
             "ticks": ""
            },
            "type": "contourcarpet"
           }
          ],
          "heatmap": [
           {
            "colorbar": {
             "outlinewidth": 0,
             "ticks": ""
            },
            "colorscale": [
             [
              0,
              "#0d0887"
             ],
             [
              0.1111111111111111,
              "#46039f"
             ],
             [
              0.2222222222222222,
              "#7201a8"
             ],
             [
              0.3333333333333333,
              "#9c179e"
             ],
             [
              0.4444444444444444,
              "#bd3786"
             ],
             [
              0.5555555555555556,
              "#d8576b"
             ],
             [
              0.6666666666666666,
              "#ed7953"
             ],
             [
              0.7777777777777778,
              "#fb9f3a"
             ],
             [
              0.8888888888888888,
              "#fdca26"
             ],
             [
              1,
              "#f0f921"
             ]
            ],
            "type": "heatmap"
           }
          ],
          "heatmapgl": [
           {
            "colorbar": {
             "outlinewidth": 0,
             "ticks": ""
            },
            "colorscale": [
             [
              0,
              "#0d0887"
             ],
             [
              0.1111111111111111,
              "#46039f"
             ],
             [
              0.2222222222222222,
              "#7201a8"
             ],
             [
              0.3333333333333333,
              "#9c179e"
             ],
             [
              0.4444444444444444,
              "#bd3786"
             ],
             [
              0.5555555555555556,
              "#d8576b"
             ],
             [
              0.6666666666666666,
              "#ed7953"
             ],
             [
              0.7777777777777778,
              "#fb9f3a"
             ],
             [
              0.8888888888888888,
              "#fdca26"
             ],
             [
              1,
              "#f0f921"
             ]
            ],
            "type": "heatmapgl"
           }
          ],
          "histogram": [
           {
            "marker": {
             "pattern": {
              "fillmode": "overlay",
              "size": 10,
              "solidity": 0.2
             }
            },
            "type": "histogram"
           }
          ],
          "histogram2d": [
           {
            "colorbar": {
             "outlinewidth": 0,
             "ticks": ""
            },
            "colorscale": [
             [
              0,
              "#0d0887"
             ],
             [
              0.1111111111111111,
              "#46039f"
             ],
             [
              0.2222222222222222,
              "#7201a8"
             ],
             [
              0.3333333333333333,
              "#9c179e"
             ],
             [
              0.4444444444444444,
              "#bd3786"
             ],
             [
              0.5555555555555556,
              "#d8576b"
             ],
             [
              0.6666666666666666,
              "#ed7953"
             ],
             [
              0.7777777777777778,
              "#fb9f3a"
             ],
             [
              0.8888888888888888,
              "#fdca26"
             ],
             [
              1,
              "#f0f921"
             ]
            ],
            "type": "histogram2d"
           }
          ],
          "histogram2dcontour": [
           {
            "colorbar": {
             "outlinewidth": 0,
             "ticks": ""
            },
            "colorscale": [
             [
              0,
              "#0d0887"
             ],
             [
              0.1111111111111111,
              "#46039f"
             ],
             [
              0.2222222222222222,
              "#7201a8"
             ],
             [
              0.3333333333333333,
              "#9c179e"
             ],
             [
              0.4444444444444444,
              "#bd3786"
             ],
             [
              0.5555555555555556,
              "#d8576b"
             ],
             [
              0.6666666666666666,
              "#ed7953"
             ],
             [
              0.7777777777777778,
              "#fb9f3a"
             ],
             [
              0.8888888888888888,
              "#fdca26"
             ],
             [
              1,
              "#f0f921"
             ]
            ],
            "type": "histogram2dcontour"
           }
          ],
          "mesh3d": [
           {
            "colorbar": {
             "outlinewidth": 0,
             "ticks": ""
            },
            "type": "mesh3d"
           }
          ],
          "parcoords": [
           {
            "line": {
             "colorbar": {
              "outlinewidth": 0,
              "ticks": ""
             }
            },
            "type": "parcoords"
           }
          ],
          "pie": [
           {
            "automargin": true,
            "type": "pie"
           }
          ],
          "scatter": [
           {
            "fillpattern": {
             "fillmode": "overlay",
             "size": 10,
             "solidity": 0.2
            },
            "type": "scatter"
           }
          ],
          "scatter3d": [
           {
            "line": {
             "colorbar": {
              "outlinewidth": 0,
              "ticks": ""
             }
            },
            "marker": {
             "colorbar": {
              "outlinewidth": 0,
              "ticks": ""
             }
            },
            "type": "scatter3d"
           }
          ],
          "scattercarpet": [
           {
            "marker": {
             "colorbar": {
              "outlinewidth": 0,
              "ticks": ""
             }
            },
            "type": "scattercarpet"
           }
          ],
          "scattergeo": [
           {
            "marker": {
             "colorbar": {
              "outlinewidth": 0,
              "ticks": ""
             }
            },
            "type": "scattergeo"
           }
          ],
          "scattergl": [
           {
            "marker": {
             "colorbar": {
              "outlinewidth": 0,
              "ticks": ""
             }
            },
            "type": "scattergl"
           }
          ],
          "scattermapbox": [
           {
            "marker": {
             "colorbar": {
              "outlinewidth": 0,
              "ticks": ""
             }
            },
            "type": "scattermapbox"
           }
          ],
          "scatterpolar": [
           {
            "marker": {
             "colorbar": {
              "outlinewidth": 0,
              "ticks": ""
             }
            },
            "type": "scatterpolar"
           }
          ],
          "scatterpolargl": [
           {
            "marker": {
             "colorbar": {
              "outlinewidth": 0,
              "ticks": ""
             }
            },
            "type": "scatterpolargl"
           }
          ],
          "scatterternary": [
           {
            "marker": {
             "colorbar": {
              "outlinewidth": 0,
              "ticks": ""
             }
            },
            "type": "scatterternary"
           }
          ],
          "surface": [
           {
            "colorbar": {
             "outlinewidth": 0,
             "ticks": ""
            },
            "colorscale": [
             [
              0,
              "#0d0887"
             ],
             [
              0.1111111111111111,
              "#46039f"
             ],
             [
              0.2222222222222222,
              "#7201a8"
             ],
             [
              0.3333333333333333,
              "#9c179e"
             ],
             [
              0.4444444444444444,
              "#bd3786"
             ],
             [
              0.5555555555555556,
              "#d8576b"
             ],
             [
              0.6666666666666666,
              "#ed7953"
             ],
             [
              0.7777777777777778,
              "#fb9f3a"
             ],
             [
              0.8888888888888888,
              "#fdca26"
             ],
             [
              1,
              "#f0f921"
             ]
            ],
            "type": "surface"
           }
          ],
          "table": [
           {
            "cells": {
             "fill": {
              "color": "#EBF0F8"
             },
             "line": {
              "color": "white"
             }
            },
            "header": {
             "fill": {
              "color": "#C8D4E3"
             },
             "line": {
              "color": "white"
             }
            },
            "type": "table"
           }
          ]
         },
         "layout": {
          "annotationdefaults": {
           "arrowcolor": "#2a3f5f",
           "arrowhead": 0,
           "arrowwidth": 1
          },
          "autotypenumbers": "strict",
          "coloraxis": {
           "colorbar": {
            "outlinewidth": 0,
            "ticks": ""
           }
          },
          "colorscale": {
           "diverging": [
            [
             0,
             "#8e0152"
            ],
            [
             0.1,
             "#c51b7d"
            ],
            [
             0.2,
             "#de77ae"
            ],
            [
             0.3,
             "#f1b6da"
            ],
            [
             0.4,
             "#fde0ef"
            ],
            [
             0.5,
             "#f7f7f7"
            ],
            [
             0.6,
             "#e6f5d0"
            ],
            [
             0.7,
             "#b8e186"
            ],
            [
             0.8,
             "#7fbc41"
            ],
            [
             0.9,
             "#4d9221"
            ],
            [
             1,
             "#276419"
            ]
           ],
           "sequential": [
            [
             0,
             "#0d0887"
            ],
            [
             0.1111111111111111,
             "#46039f"
            ],
            [
             0.2222222222222222,
             "#7201a8"
            ],
            [
             0.3333333333333333,
             "#9c179e"
            ],
            [
             0.4444444444444444,
             "#bd3786"
            ],
            [
             0.5555555555555556,
             "#d8576b"
            ],
            [
             0.6666666666666666,
             "#ed7953"
            ],
            [
             0.7777777777777778,
             "#fb9f3a"
            ],
            [
             0.8888888888888888,
             "#fdca26"
            ],
            [
             1,
             "#f0f921"
            ]
           ],
           "sequentialminus": [
            [
             0,
             "#0d0887"
            ],
            [
             0.1111111111111111,
             "#46039f"
            ],
            [
             0.2222222222222222,
             "#7201a8"
            ],
            [
             0.3333333333333333,
             "#9c179e"
            ],
            [
             0.4444444444444444,
             "#bd3786"
            ],
            [
             0.5555555555555556,
             "#d8576b"
            ],
            [
             0.6666666666666666,
             "#ed7953"
            ],
            [
             0.7777777777777778,
             "#fb9f3a"
            ],
            [
             0.8888888888888888,
             "#fdca26"
            ],
            [
             1,
             "#f0f921"
            ]
           ]
          },
          "colorway": [
           "#636efa",
           "#EF553B",
           "#00cc96",
           "#ab63fa",
           "#FFA15A",
           "#19d3f3",
           "#FF6692",
           "#B6E880",
           "#FF97FF",
           "#FECB52"
          ],
          "font": {
           "color": "#2a3f5f"
          },
          "geo": {
           "bgcolor": "white",
           "lakecolor": "white",
           "landcolor": "#E5ECF6",
           "showlakes": true,
           "showland": true,
           "subunitcolor": "white"
          },
          "hoverlabel": {
           "align": "left"
          },
          "hovermode": "closest",
          "mapbox": {
           "style": "light"
          },
          "paper_bgcolor": "white",
          "plot_bgcolor": "#E5ECF6",
          "polar": {
           "angularaxis": {
            "gridcolor": "white",
            "linecolor": "white",
            "ticks": ""
           },
           "bgcolor": "#E5ECF6",
           "radialaxis": {
            "gridcolor": "white",
            "linecolor": "white",
            "ticks": ""
           }
          },
          "scene": {
           "xaxis": {
            "backgroundcolor": "#E5ECF6",
            "gridcolor": "white",
            "gridwidth": 2,
            "linecolor": "white",
            "showbackground": true,
            "ticks": "",
            "zerolinecolor": "white"
           },
           "yaxis": {
            "backgroundcolor": "#E5ECF6",
            "gridcolor": "white",
            "gridwidth": 2,
            "linecolor": "white",
            "showbackground": true,
            "ticks": "",
            "zerolinecolor": "white"
           },
           "zaxis": {
            "backgroundcolor": "#E5ECF6",
            "gridcolor": "white",
            "gridwidth": 2,
            "linecolor": "white",
            "showbackground": true,
            "ticks": "",
            "zerolinecolor": "white"
           }
          },
          "shapedefaults": {
           "line": {
            "color": "#2a3f5f"
           }
          },
          "ternary": {
           "aaxis": {
            "gridcolor": "white",
            "linecolor": "white",
            "ticks": ""
           },
           "baxis": {
            "gridcolor": "white",
            "linecolor": "white",
            "ticks": ""
           },
           "bgcolor": "#E5ECF6",
           "caxis": {
            "gridcolor": "white",
            "linecolor": "white",
            "ticks": ""
           }
          },
          "title": {
           "x": 0.05
          },
          "xaxis": {
           "automargin": true,
           "gridcolor": "white",
           "linecolor": "white",
           "ticks": "",
           "title": {
            "standoff": 15
           },
           "zerolinecolor": "white",
           "zerolinewidth": 2
          },
          "yaxis": {
           "automargin": true,
           "gridcolor": "white",
           "linecolor": "white",
           "ticks": "",
           "title": {
            "standoff": 15
           },
           "zerolinecolor": "white",
           "zerolinewidth": 2
          }
         }
        }
       }
      }
     },
     "metadata": {},
     "output_type": "display_data"
    }
   ],
   "source": [
    "plot_crit_points_from_file(model, 'data/sweeps/PEDESTRIAN/11.txt', 200)"
   ]
  }
 ],
 "metadata": {
  "kernelspec": {
   "display_name": "Python 3.8.0 ('cv_proj6')",
   "language": "python",
   "name": "python3"
  },
  "language_info": {
   "codemirror_mode": {
    "name": "ipython",
    "version": 3
   },
   "file_extension": ".py",
   "mimetype": "text/x-python",
   "name": "python",
   "nbconvert_exporter": "python",
   "pygments_lexer": "ipython3",
   "version": "3.8.0 | packaged by conda-forge | (default, Nov 22 2019, 19:04:36) [MSC v.1916 64 bit (AMD64)]"
  },
  "vscode": {
   "interpreter": {
    "hash": "1d63d51f9887fde3b22554d1ae646619dae02e9e3b120cb2d3c45e9bb8268829"
   }
  },
  "widgets": {
   "state": {},
   "version": "1.1.2"
  }
 },
 "nbformat": 4,
 "nbformat_minor": 2
}
